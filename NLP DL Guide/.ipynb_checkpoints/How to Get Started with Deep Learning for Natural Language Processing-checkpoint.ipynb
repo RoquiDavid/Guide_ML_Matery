{
 "cells": [
  {
   "cell_type": "code",
   "execution_count": 1,
   "metadata": {},
   "outputs": [],
   "source": [
    "# load data\n",
    "filename = 'Book_data.txt'\n",
    "file = open(filename, 'rt')\n",
    "text = file.read()\n",
    "file.close()\n",
    "# split into words\n",
    "from nltk.tokenize import word_tokenize\n",
    "tokens = word_tokenize(text)"
   ]
  },
  {
   "cell_type": "markdown",
   "metadata": {},
   "source": [
    "# Lesson 03: Bag-of-Words Model"
   ]
  },
  {
   "cell_type": "markdown",
   "metadata": {},
   "source": [
    "# Sklearn bag-of-words"
   ]
  },
  {
   "cell_type": "code",
   "execution_count": 2,
   "metadata": {},
   "outputs": [
    {
     "name": "stdout",
     "output_type": "stream",
     "text": [
      "Vocabulary:  {'the': 7, 'quick': 6, 'brown': 0, 'fox': 2, 'jumped': 3, 'over': 5, 'lazy': 4, 'dog': 1} \n",
      "\n",
      "idf:  [1.69314718 1.28768207 1.28768207 1.69314718 1.69314718 1.69314718\n",
      " 1.69314718 1.        ] \n",
      "\n",
      "Shape:  (1, 8) \n",
      "\n",
      "Array:  [[0.36388646 0.27674503 0.27674503 0.36388646 0.36388646 0.36388646\n",
      "  0.36388646 0.42983441]] \n",
      "\n"
     ]
    }
   ],
   "source": [
    "from sklearn.feature_extraction.text import TfidfVectorizer\n",
    "# list of text documents\n",
    "text = [\"The quick brown fox jumped over the lazy dog.\",\n",
    "        \"The dog.\",\n",
    "        \"The fox\"]\n",
    "# create the transform\n",
    "vectorizer = TfidfVectorizer()\n",
    "\n",
    "# tokenize and build vocab\n",
    "vectorizer.fit(text)\n",
    "\n",
    "# summarize\n",
    "print(\"Vocabulary: \",vectorizer.vocabulary_,\"\\n\")\n",
    "print(\"idf: \",vectorizer.idf_,\"\\n\")\n",
    "\n",
    "# encode document\n",
    "vector = vectorizer.transform([text[0]])\n",
    "\n",
    "# summarize encoded vector\n",
    "print(\"Shape: \",vector.shape,\"\\n\")\n",
    "print(\"Array: \",vector.toarray(),\"\\n\")"
   ]
  },
  {
   "cell_type": "markdown",
   "metadata": {},
   "source": [
    "# Keras bag-of-words"
   ]
  },
  {
   "cell_type": "code",
   "execution_count": 3,
   "metadata": {},
   "outputs": [
    {
     "name": "stdout",
     "output_type": "stream",
     "text": [
      "Word count:  OrderedDict([('well', 1), ('done', 1), ('good', 1), ('work', 2), ('great', 1), ('effort', 1), ('nice', 1), ('excellent', 1)]) \n",
      "\n",
      "Document count:  5 \n",
      "\n",
      "Word index:  {'work': 1, 'well': 2, 'done': 3, 'good': 4, 'great': 5, 'effort': 6, 'nice': 7, 'excellent': 8} \n",
      "\n",
      "Word docs:  defaultdict(<class 'int'>, {'well': 1, 'done': 1, 'good': 1, 'work': 2, 'great': 1, 'effort': 1, 'nice': 1, 'excellent': 1}) \n",
      "\n",
      "Document encoded :\n",
      " [[0. 0. 1. 1. 0. 0. 0. 0. 0.]\n",
      " [0. 1. 0. 0. 1. 0. 0. 0. 0.]\n",
      " [0. 0. 0. 0. 0. 1. 1. 0. 0.]\n",
      " [0. 1. 0. 0. 0. 0. 0. 1. 0.]\n",
      " [0. 0. 0. 0. 0. 0. 0. 0. 1.]]\n"
     ]
    }
   ],
   "source": [
    "from keras.preprocessing.text import Tokenizer\n",
    "# define 5 documents\n",
    "docs = ['Well done!',\n",
    "        'Good work',\n",
    "        'Great effort',\n",
    "        'nice work',\n",
    "        'Excellent!']\n",
    "# create the tokenizer\n",
    "t = Tokenizer()\n",
    "# fit the tokenizer on the documents\n",
    "t.fit_on_texts(docs)\n",
    "# summarize what was learned\n",
    "print(\"Word count: \",t.word_counts,\"\\n\")\n",
    "print(\"Document count: \",t.document_count,\"\\n\")\n",
    "print(\"Word index: \",t.word_index,\"\\n\")\n",
    "print(\"Word docs: \",t.word_docs,\"\\n\")\n",
    "# integer encode documents\n",
    "encoded_docs = t.texts_to_matrix(docs, mode='count')\n",
    "print(\"Document encoded :\\n\",encoded_docs)"
   ]
  },
  {
   "cell_type": "markdown",
   "metadata": {},
   "source": [
    "# Personal implementation"
   ]
  },
  {
   "cell_type": "code",
   "execution_count": 4,
   "metadata": {},
   "outputs": [],
   "source": [
    "#Import\n",
    "import string\n",
    "from nltk.tokenize import word_tokenize\n",
    "from nltk.corpus import stopwords\n",
    "from nltk.stem.porter import PorterStemmer"
   ]
  },
  {
   "cell_type": "code",
   "execution_count": 5,
   "metadata": {},
   "outputs": [],
   "source": [
    "# load data\n",
    "filename = 'Book_data.txt'\n",
    "file = open(filename, 'rt')\n",
    "text = file.read()\n",
    "file.close()"
   ]
  },
  {
   "cell_type": "markdown",
   "metadata": {},
   "source": [
    "# Data cleaning"
   ]
  },
  {
   "cell_type": "code",
   "execution_count": 6,
   "metadata": {},
   "outputs": [],
   "source": [
    "# split into words\n",
    "tokens = word_tokenize(text)\n",
    "\n",
    "# convert to lower case\n",
    "tokens = [w.lower() for w in tokens]\n",
    "\n",
    "# remove punctuation from each word\n",
    "table = str.maketrans('', '', string.punctuation)\n",
    "stripped = [w.translate(table) for w in tokens]\n",
    "\n",
    "# remove remaining tokens that are not alphabetic\n",
    "words = [word for word in stripped if word.isalpha()]\n",
    "\n",
    "# filter out stop words\n",
    "stop_words = set(stopwords.words('english'))\n",
    "words = [w for w in words if not w in stop_words]"
   ]
  },
  {
   "cell_type": "markdown",
   "metadata": {},
   "source": [
    "# Keras Bag of word (BOW)"
   ]
  },
  {
   "cell_type": "code",
   "execution_count": 7,
   "metadata": {},
   "outputs": [
    {
     "name": "stdout",
     "output_type": "stream",
     "text": [
      "Word count:  OrderedDict([('early', 7), ('history', 3), ('original', 1), ('inhabitants', 1), ('new', 105), ('jersey', 70), ('h', 1), ('indians', 2), ('delaware', 50), ('tribe', 1), ('belonged', 1), ('algonquin', 1), ('family', 1), ('white', 3), ('settlers', 2), ('different', 4), ('nationalities', 1), ('dutch', 9), ('swedes', 2), ('english', 2), ('french', 1), ('geographical', 2), ('names', 2), ('state', 147), ('interesting', 1), ('reminders', 1), ('various', 2), ('occupants', 1), ('first', 14), ('exploration', 1), ('made', 12), ('henry', 1), ('hudson', 22), ('employ', 1), ('east', 14), ('india', 2), ('company', 1), ('sailed', 2), ('week', 1), ('waters', 8), ('bay', 36), ('river', 58), ('called', 5), ('south', 18), ('search', 1), ('northwest', 6), ('passage', 1), ('failing', 1), ('find', 1), ('north', 17), ('entered', 1), ('york', 50), ('still', 8), ('founded', 3), ('amsterdam', 2), ('afterwards', 2), ('time', 8), ('established', 4), ('trading', 1), ('post', 1), ('county', 30), ('later', 1), ('attempted', 1), ('settlements', 4), ('southwestern', 5), ('part', 40), ('expelled', 1), ('places', 11), ('proved', 1), ('temporary', 1), ('permanent', 4), ('settlement', 1), ('bergen', 6), ('city', 81), ('granted', 3), ('town', 14), ('form', 2), ('government', 8), ('separate', 1), ('took', 1), ('possession', 1), ('netherland', 1), ('colony', 2), ('including', 9), ('king', 1), ('charles', 1), ('ii', 2), ('brother', 1), ('duke', 1), ('turn', 1), ('lying', 4), ('rivers', 3), ('lord', 1), ('john', 1), ('berkeley', 2), ('sir', 2), ('george', 1), ('carteret', 4), ('latter', 4), ('governor', 6), ('isle', 1), ('grant', 1), ('named', 1), ('honor', 1), ('disagreements', 1), ('led', 3), ('sell', 1), ('interest', 1), ('proprietors', 2), ('among', 14), ('william', 1), ('penn', 1), ('divided', 4), ('west', 17), ('line', 15), ('running', 2), ('little', 7), ('egg', 2), ('harbor', 2), ('northern', 18), ('division', 1), ('often', 2), ('referred', 1), ('jerseys', 1), ('surrendered', 1), ('proprietary', 1), ('rights', 1), ('crown', 1), ('independence', 2), ('whole', 1), ('royal', 1), ('five', 2), ('representatives', 2), ('signed', 1), ('declaration', 1), ('position', 2), ('war', 2), ('path', 2), ('revolution', 2), ('paulus', 1), ('hook', 3), ('springfield', 1), ('morristown', 4), ('monmouth', 4), ('princeton', 7), ('trenton', 24), ('famous', 4), ('revolutionary', 2), ('troops', 2), ('every', 2), ('conflict', 1), ('army', 1), ('general', 8), ('wayne', 1), ('punished', 1), ('wyoming', 1), ('massacre', 1), ('one', 20), ('third', 9), ('soldiers', 1), ('maxwell', 1), ('illustration', 31), ('battle', 4), ('monument', 2), ('physical', 2), ('political', 2), ('half', 3), ('size', 6), ('lies', 3), ('longitude', 1), ('latitude', 3), ('northernmost', 1), ('point', 5), ('marked', 1), ('rock', 14), ('shore', 3), ('port', 2), ('jervis', 1), ('known', 6), ('tristates', 2), ('cape', 5), ('may', 14), ('length', 2), ('miles', 24), ('narrowest', 1), ('raritan', 15), ('wide', 5), ('widest', 2), ('measured', 1), ('extending', 6), ('great', 24), ('inlet', 1), ('smallest', 3), ('middle', 4), ('atlantic', 18), ('states', 25), ('area', 10), ('square', 13), ('land', 15), ('surface', 9), ('water', 36), ('fortyfifth', 2), ('relief', 2), ('way', 2), ('described', 1), ('mountainous', 2), ('undulating', 2), ('low', 2), ('sandy', 4), ('southern', 11), ('four', 4), ('provinces', 3), ('zones', 3), ('namely', 1), ('appalachian', 8), ('zone', 12), ('highlands', 13), ('piedmont', 8), ('plateau', 8), ('coastal', 6), ('plain', 7), ('extend', 1), ('southwest', 7), ('northeast', 9), ('man', 1), ('stands', 2), ('intersection', 1), ('pennsylvania', 11), ('boundaries', 2), ('topographic', 1), ('consists', 4), ('kittatinny', 8), ('mountain', 10), ('valley', 11), ('extends', 12), ('across', 3), ('northwestern', 4), ('vicinity', 4), ('gap', 3), ('width', 2), ('belt', 3), ('varies', 5), ('twelve', 4), ('fourteen', 2), ('along', 22), ('thirty', 2), ('corner', 5), ('blue', 1), ('height', 2), ('range', 2), ('feet', 14), ('highest', 4), ('high', 5), ('elevation', 6), ('southeast', 6), ('side', 1), ('runs', 1), ('parallel', 2), ('map', 1), ('rugged', 2), ('extensive', 20), ('forests', 7), ('many', 54), ('lakes', 6), ('noted', 7), ('beautiful', 5), ('scenery', 2), ('attracts', 1), ('summer', 8), ('visitors', 3), ('particularly', 6), ('account', 4), ('break', 1), ('flows', 5), ('rough', 1), ('section', 16), ('adapted', 2), ('agriculture', 6), ('although', 4), ('bottom', 1), ('lands', 4), ('bordering', 1), ('streams', 14), ('farms', 6), ('devoted', 6), ('raising', 8), ('crops', 6), ('grazing', 2), ('second', 7), ('immediately', 1), ('southeastern', 3), ('boundary', 2), ('passes', 2), ('near', 16), ('boonton', 2), ('ten', 3), ('twenty', 2), ('generally', 2), ('hamburg', 1), ('wawayanda', 1), ('reach', 1), ('altitude', 2), ('well', 5), ('belong', 1), ('region', 5), ('term', 2), ('applied', 1), ('consisting', 2), ('contain', 2), ('irregular', 4), ('masses', 1), ('interspersed', 1), ('fertile', 4), ('valleys', 4), ('much', 11), ('forest', 10), ('contains', 9), ('besides', 11), ('glacial', 9), ('origin', 1), ('consequently', 1), ('natural', 3), ('beauty', 2), ('popular', 6), ('resort', 7), ('desire', 2), ('outdoor', 1), ('recreation', 3), ('farm', 5), ('suitable', 2), ('parts', 30), ('specially', 5), ('peaches', 3), ('fruits', 6), ('valuable', 6), ('mineral', 1), ('deposits', 9), ('gravel', 7), ('cement', 5), ('zinc', 3), ('iron', 18), ('next', 2), ('woodbridge', 4), ('middlesex', 5), ('represents', 1), ('fall', 4), ('sec', 4), ('comprises', 1), ('fifth', 4), ('sea', 9), ('level', 3), ('characterized', 2), ('presence', 4), ('red', 3), ('sandstone', 3), ('shale', 2), ('eastern', 4), ('rolling', 2), ('western', 7), ('higher', 4), ('plateaus', 1), ('also', 19), ('ridges', 4), ('watchung', 5), ('mountains', 13), ('palisades', 6), ('hunterdon', 3), ('composed', 6), ('trap', 5), ('molten', 1), ('condition', 2), ('forced', 3), ('overlying', 1), ('strata', 2), ('sides', 2), ('steep', 2), ('slopes', 2), ('underlying', 3), ('worn', 1), ('away', 2), ('harder', 1), ('resisted', 1), ('erosion', 1), ('falls', 9), ('passaic', 23), ('paterson', 15), ('located', 26), ('seventy', 1), ('formed', 3), ('passing', 1), ('hard', 2), ('wearing', 1), ('softer', 1), ('nearness', 6), ('commercial', 10), ('centers', 9), ('country', 12), ('excellent', 10), ('facilities', 22), ('transportation', 17), ('larger', 5), ('cities', 42), ('barnegat', 2), ('lighthouse', 1), ('fourth', 5), ('includes', 3), ('remainder', 1), ('interior', 6), ('elevations', 2), ('mount', 4), ('holly', 3), ('outward', 1), ('towards', 1), ('margins', 1), ('greatest', 3), ('found', 17), ('three', 6), ('fourths', 1), ('portion', 1), ('less', 7), ('bordered', 1), ('coast', 12), ('salt', 4), ('marshes', 5), ('tidal', 5), ('meadows', 2), ('whose', 12), ('rarely', 1), ('total', 6), ('hackensack', 8), ('almost', 1), ('separated', 1), ('ocean', 15), ('beaches', 5), ('sand', 12), ('constructed', 3), ('shallow', 3), ('action', 1), ('waves', 1), ('wind', 2), ('absent', 1), ('manasquan', 2), ('beach', 1), ('mainland', 2), ('becoming', 3), ('deposit', 1), ('sediment', 1), ('washed', 2), ('long', 14), ('good', 4), ('harbors', 1), ('barrier', 1), ('shallowness', 1), ('covered', 7), ('ice', 5), ('period', 4), ('therefore', 7), ('moraines', 1), ('material', 3), ('carried', 5), ('glacier', 4), ('consist', 1), ('clay', 13), ('bowlders', 2), ('take', 1), ('hills', 3), ('others', 1), ('spread', 1), ('sheets', 1), ('partly', 1), ('filled', 3), ('occupy', 1), ('basins', 5), ('scooped', 1), ('outlets', 2), ('blocked', 1), ('terminal', 5), ('moraine', 3), ('marks', 1), ('limit', 1), ('belvidere', 2), ('perth', 8), ('amboy', 11), ('passed', 3), ('rocks', 2), ('polished', 1), ('surfaces', 1), ('left', 1), ('scratches', 1), ('indicate', 1), ('southward', 2), ('movement', 1), ('beneath', 1), ('continental', 1), ('shelf', 1), ('ancient', 1), ('climate', 4), ('milder', 1), ('subject', 3), ('extreme', 3), ('fluctuation', 1), ('average', 2), ('annual', 3), ('temperature', 3), ('lower', 4), ('end', 3), ('due', 7), ('distance', 2), ('greater', 3), ('prevailing', 1), ('winds', 2), ('track', 1), ('storms', 1), ('cross', 2), ('continent', 1), ('blowing', 1), ('toward', 3), ('storm', 1), ('bring', 5), ('moisture', 1), ('insure', 1), ('ample', 4), ('rainfall', 3), ('local', 4), ('showers', 1), ('thunderstorms', 1), ('move', 1), ('frequent', 1), ('spring', 3), ('months', 1), ('benefit', 1), ('breezes', 1), ('felt', 3), ('sufficient', 2), ('kinds', 14), ('grown', 9), ('northeastern', 4), ('precipitation', 1), ('fifty', 3), ('inches', 2), ('least', 3), ('fortyone', 1), ('highland', 2), ('light', 2), ('drainage', 7), ('divide', 1), ('flow', 6), ('newark', 30), ('drained', 4), ('tributaries', 2), ('drain', 1), ('basin', 8), ('small', 3), ('several', 6), ('considerable', 3), ('wallkill', 2), ('rises', 2), ('saddle', 1), ('pompton', 1), ('ramapo', 1), ('wanaque', 1), ('greenwood', 1), ('lake', 6), ('pequannock', 3), ('rockaway', 3), ('follows', 1), ('tortuous', 1), ('course', 3), ('bays', 4), ('border', 1), ('affected', 2), ('largest', 11), ('navigable', 2), ('courses', 2), ('case', 1), ('tide', 1), ('important', 35), ('hoboken', 12), ('bayonne', 3), ('elizabeth', 7), ('brunswick', 6), ('branch', 2), ('asbury', 2), ('park', 6), ('camden', 14), ('broad', 2), ('flat', 1), ('stream', 2), ('crossed', 1), ('summit', 4), ('millburn', 1), ('flowed', 3), ('sheet', 2), ('receded', 2), ('drift', 3), ('large', 30), ('geologists', 1), ('call', 1), ('liberty', 1), ('farther', 6), ('gaps', 2), ('exposed', 1), ('older', 1), ('escaped', 1), ('present', 1), ('disappeared', 3), ('changes', 1), ('explain', 1), ('swampy', 1), ('power', 10), ('generated', 2), ('rapid', 6), ('descent', 1), ('utilized', 1), ('manufacturing', 26), ('purposes', 14), ('mills', 6), ('location', 5), ('center', 12), ('developed', 4), ('secured', 1), ('rapids', 1), ('used', 12), ('provide', 5), ('electric', 3), ('closely', 3), ('connected', 11), ('systems', 3), ('dependent', 2), ('largely', 8), ('upon', 2), ('methods', 2), ('supplying', 1), ('people', 11), ('towns', 32), ('domestic', 1), ('formerly', 4), ('obtained', 6), ('nearby', 1), ('springs', 1), ('wells', 2), ('population', 34), ('increased', 9), ('sources', 4), ('supply', 7), ('became', 1), ('contaminated', 1), ('dangerous', 1), ('health', 7), ('danger', 1), ('quantity', 2), ('required', 1), ('interests', 3), ('make', 4), ('provision', 1), ('securing', 1), ('remote', 1), ('pollution', 4), ('watersupply', 1), ('include', 6), ('pumping', 1), ('stations', 4), ('reservoirs', 1), ('storage', 3), ('pipe', 5), ('lines', 11), ('taken', 1), ('municipal', 3), ('thinly', 1), ('populated', 4), ('profitable', 4), ('useful', 1), ('furnishing', 1), ('draw', 1), ('upper', 3), ('drew', 2), ('far', 2), ('former', 2), ('gradually', 2), ('polluted', 1), ('sewage', 2), ('waste', 1), ('factories', 11), ('discharged', 2), ('abandoned', 3), ('source', 1), ('distances', 1), ('using', 1), ('cases', 2), ('artesian', 1), ('sewers', 2), ('drains', 1), ('destroys', 1), ('fish', 1), ('freshwater', 2), ('damage', 1), ('even', 1), ('oyster', 1), ('clam', 1), ('fisheries', 6), ('alive', 1), ('necessity', 2), ('protecting', 1), ('contamination', 1), ('enacted', 1), ('legislation', 2), ('designed', 1), ('maintain', 2), ('purity', 1), ('preventing', 2), ('objectionable', 1), ('matter', 1), ('provided', 4), ('construction', 6), ('trunkline', 1), ('sewer', 1), ('cooperation', 3), ('laws', 4), ('prevent', 2), ('plants', 4), ('animals', 5), ('settled', 8), ('vast', 2), ('primeval', 1), ('pine', 2), ('oak', 2), ('maple', 1), ('chestnut', 1), ('hickory', 1), ('ash', 1), ('walnut', 1), ('tulip', 1), ('poplar', 1), ('cedar', 1), ('years', 8), ('lumbering', 1), ('industry', 24), ('ceased', 1), ('ago', 1), ('best', 1), ('timber', 1), ('cut', 1), ('difficult', 1), ('impossible', 2), ('promise', 1), ('value', 11), ('future', 1), ('pines', 3), ('stunted', 1), ('mingled', 1), ('scrub', 1), ('isolated', 1), ('forested', 2), ('areas', 4), ('varied', 6), ('extent', 3), ('forty', 1), ('per', 12), ('cent', 7), ('growth', 10), ('recent', 2), ('organized', 1), ('efforts', 1), ('protect', 1), ('trees', 3), ('fires', 3), ('destructive', 2), ('agencies', 1), ('reforestation', 1), ('however', 4), ('realized', 1), ('importance', 7), ('promoting', 1), ('available', 1), ('farming', 5), ('recognized', 1), ('floods', 1), ('secs', 1), ('additional', 1), ('reason', 1), ('protection', 6), ('preserving', 1), ('soils', 4), ('obtain', 1), ('times', 1), ('constant', 2), ('use', 3), ('shade', 2), ('breaks', 1), ('justify', 1), ('care', 3), ('reasons', 1), ('adopted', 3), ('provides', 1), ('owns', 1), ('maintains', 5), ('six', 2), ('reserves', 1), ('containing', 2), ('nearly', 3), ('acres', 3), ('culture', 1), ('authorized', 2), ('counties', 17), ('create', 1), ('parks', 3), ('diffusion', 1), ('information', 1), ('regarding', 2), ('lookout', 1), ('detected', 1), ('force', 1), ('firewardens', 1), ('extinguish', 1), ('arrest', 1), ('cause', 1), ('acting', 2), ('together', 2), ('created', 2), ('interstate', 1), ('embraces', 2), ('thousands', 5), ('shipping', 4), ('tomatoes', 2), ('swedesboro', 2), ('wild', 2), ('practically', 3), ('deer', 1), ('frequently', 1), ('afforded', 1), ('animal', 2), ('smaller', 1), ('rabbit', 1), ('squirrel', 1), ('ducks', 1), ('quail', 1), ('numerous', 3), ('abound', 1), ('bass', 1), ('trout', 1), ('pickerel', 1), ('perch', 1), ('shad', 2), ('catch', 1), ('sturgeon', 1), ('constantly', 1), ('restocked', 1), ('means', 3), ('hatcheries', 1), ('hackettstown', 4), ('owing', 1), ('chiefly', 1), ('fishing', 2), ('sheltered', 1), ('inlets', 1), ('markets', 4), ('successful', 3), ('bluefish', 1), ('weakfish', 1), ('food', 1), ('menhaden', 1), ('oil', 6), ('fertilizer', 2), ('caught', 1), ('quantities', 8), ('coves', 1), ('immense', 1), ('oysters', 1), ('clams', 1), ('gathered', 1), ('keyport', 2), ('tuckerton', 1), ('absecon', 1), ('maurice', 1), ('cove', 1), ('bivalve', 1), ('denuded', 1), ('soil', 10), ('mixed', 2), ('easy', 1), ('cultivate', 1), ('stones', 1), ('disintegrated', 1), ('consisted', 1), ('gneiss', 1), ('sandstones', 1), ('shales', 1), ('marl', 8), ('deposited', 1), ('shells', 1), ('lived', 1), ('abundance', 6), ('strip', 1), ('past', 1), ('salem', 2), ('narrower', 1), ('rich', 7), ('extensively', 2), ('enrich', 1), ('poorer', 1), ('displaced', 1), ('richer', 1), ('fertilizers', 4), ('socalled', 1), ('barrens', 1), ('cover', 1), ('comparatively', 1), ('unproductive', 1), ('proper', 1), ('cultivation', 4), ('application', 1), ('productive', 3), ('gathering', 1), ('production', 5), ('grain', 1), ('compete', 1), ('plains', 1), ('wheat', 1), ('produced', 3), ('mainly', 1), ('consumption', 1), ('corn', 2), ('rye', 1), ('buckwheat', 1), ('raised', 3), ('limited', 1), ('pasture', 2), ('hay', 2), ('circumstances', 1), ('extremely', 1), ('favorable', 3), ('special', 8), ('agricultural', 8), ('industries', 37), ('products', 46), ('vegetables', 7), ('flowers', 1), ('poultry', 4), ('eggs', 2), ('milk', 5), ('butter', 1), ('mild', 1), ('winters', 1), ('generous', 1), ('fertility', 1), ('resorts', 5), ('philadelphia', 15), ('demand', 3), ('makes', 5), ('market', 3), ('gardening', 2), ('intensity', 1), ('sections', 5), ('potato', 1), ('crop', 1), ('sweet', 1), ('potatoes', 1), ('prominent', 1), ('beans', 1), ('peas', 1), ('canning', 8), ('cabbages', 1), ('celery', 1), ('onions', 1), ('fresh', 1), ('encouraged', 2), ('gardeners', 1), ('devote', 1), ('attention', 3), ('growing', 11), ('glass', 9), ('warren', 4), ('morris', 9), ('stony', 1), ('apples', 1), ('pears', 1), ('abundant', 2), ('strawberries', 1), ('blackberries', 1), ('raspberries', 1), ('grapes', 1), ('establishments', 5), ('bottling', 1), ('unfermented', 1), ('grape', 2), ('juice', 2), ('huckleberries', 1), ('common', 2), ('wooded', 1), ('cranberry', 1), ('bogs', 1), ('burlington', 4), ('buildings', 3), ('experimental', 1), ('station', 5), ('dairy', 4), ('easily', 1), ('prompt', 1), ('hand', 1), ('farmer', 1), ('devoting', 1), ('feeding', 1), ('cattle', 1), ('handling', 1), ('produce', 3), ('superior', 5), ('quality', 3), ('especially', 2), ('cumberland', 1), ('increase', 4), ('clear', 2), ('possible', 1), ('desirable', 1), ('school', 10), ('rutgers', 4), ('college', 12), ('experiment', 2), ('practical', 1), ('instruction', 3), ('improve', 1), ('silage', 1), ('front', 1), ('minerals', 1), ('ore', 2), ('mines', 4), ('smelted', 1), ('shrewsbury', 1), ('seventeenth', 1), ('century', 3), ('colonel', 1), ('lewis', 1), ('quarter', 1), ('last', 3), ('richness', 1), ('ores', 1), ('since', 2), ('operate', 1), ('furnaces', 2), ('profitably', 2), ('declined', 1), ('worked', 1), ('two', 7), ('sussex', 4), ('neighborhood', 2), ('franklin', 2), ('furnace', 2), ('ranks', 2), ('union', 6), ('portland', 1), ('phillipsburg', 6), ('granite', 2), ('quarrying', 2), ('rapidly', 7), ('widely', 1), ('building', 5), ('slate', 3), ('quarried', 1), ('talc', 1), ('soapstone', 1), ('ground', 1), ('powder', 1), ('making', 9), ('certain', 2), ('paper', 5), ('limestone', 1), ('adjacent', 2), ('easton', 1), ('road', 2), ('railroad', 16), ('beds', 4), ('hardness', 1), ('macadam', 1), ('roads', 8), ('necessary', 1), ('operations', 1), ('already', 1), ('mentioned', 3), ('fine', 4), ('caused', 1), ('establishment', 3), ('molding', 2), ('mercer', 1), ('pottery', 6), ('brick', 3), ('terra', 3), ('cotta', 3), ('tile', 2), ('enormous', 2), ('clays', 4), ('finer', 2), ('brought', 3), ('countries', 1), ('shipped', 1), ('works', 10), ('remarkable', 1), ('degree', 1), ('combination', 1), ('conditions', 2), ('causes', 1), ('needs', 1), ('demands', 2), ('neighbors', 1), ('establish', 1), ('thus', 3), ('advantage', 2), ('resources', 1), ('profited', 1), ('greatly', 2), ('coal', 3), ('fields', 2), ('manufactured', 8), ('number', 8), ('intelligent', 1), ('skillful', 1), ('workers', 2), ('unusually', 2), ('raw', 1), ('materials', 1), ('finished', 1), ('fringe', 1), ('transcontinental', 1), ('branches', 1), ('facilitate', 1), ('shipments', 1), ('world', 8), ('manufactures', 14), ('refined', 2), ('copper', 4), ('silk', 14), ('goods', 22), ('foundry', 1), ('machine', 7), ('shop', 2), ('petroleum', 2), ('packed', 1), ('meats', 2), ('woolen', 7), ('wire', 4), ('leather', 6), ('electrical', 9), ('machinery', 7), ('tobacco', 2), ('chemicals', 5), ('ships', 3), ('see', 1), ('table', 1), ('warping', 1), ('weaving', 1), ('sixth', 3), ('engaged', 4), ('massachusetts', 2), ('rhode', 2), ('island', 2), ('connecticut', 2), ('hampshire', 1), ('show', 1), ('proportion', 1), ('ninth', 1), ('manufacture', 25), ('smelting', 2), ('refining', 4), ('cloth', 1), ('linoleum', 3), ('sewing', 3), ('machines', 3), ('rubber', 7), ('paint', 1), ('varnish', 1), ('supplies', 3), ('soap', 1), ('gold', 3), ('silver', 3), ('articles', 2), ('travel', 4), ('days', 2), ('communication', 9), ('indian', 1), ('trails', 1), ('expanded', 1), ('sailing', 1), ('vessels', 3), ('effort', 1), ('keeping', 1), ('public', 7), ('difficulties', 1), ('turnpikes', 1), ('built', 3), ('private', 1), ('companies', 2), ('charged', 1), ('tolls', 1), ('exceptions', 1), ('nineteenth', 1), ('foundations', 1), ('steamboat', 1), ('canals', 2), ('railroads', 12), ('laid', 1), ('canal', 11), ('projected', 1), ('anthracite', 1), ('forges', 1), ('connect', 4), ('route', 2), ('bordentown', 3), ('order', 1), ('development', 2), ('direct', 3), ('trunk', 4), ('exception', 1), ('pass', 3), ('terminals', 2), ('weehawken', 2), ('mileage', 1), ('compared', 2), ('railway', 2), ('traverse', 1), ('points', 2), ('refinery', 1), ('tanks', 1), ('elizabethport', 1), ('advantages', 5), ('obsolete', 1), ('traffic', 1), ('probable', 1), ('widened', 1), ('deepened', 1), ('become', 1), ('barge', 1), ('ship', 1), ('ferries', 6), ('bridges', 1), ('bridge', 4), ('proposed', 2), ('enters', 1), ('tunnels', 7), ('tunnel', 1), ('vehicles', 1), ('municipalities', 2), ('spending', 1), ('sums', 2), ('money', 2), ('maintenance', 2), ('funds', 1), ('charge', 1), ('highway', 1), ('commission', 1), ('issuance', 1), ('automobile', 3), ('licenses', 1), ('tax', 1), ('recuperation', 1), ('attractive', 9), ('pleasure', 2), ('year', 4), ('round', 1), ('attractions', 1), ('kind', 2), ('woods', 1), ('authority', 1), ('given', 3), ('law', 2), ('playgrounds', 1), ('progressive', 2), ('plans', 2), ('healthful', 1), ('provisions', 1), ('board', 4), ('walk', 1), ('stringent', 1), ('measures', 1), ('sanitation', 1), ('disease', 1), ('injury', 1), ('housing', 1), ('safety', 1), ('minors', 1), ('permissible', 1), ('occupations', 4), ('segregation', 1), ('treatment', 1), ('tuberculous', 1), ('payment', 1), ('damages', 1), ('persons', 4), ('injured', 1), ('pensions', 1), ('widows', 1), ('menace', 1), ('comfort', 1), ('breeding', 1), ('mosquitoes', 1), ('spend', 1), ('purpose', 2), ('destroying', 1), ('pests', 1), ('education', 5), ('constitution', 2), ('divides', 1), ('departments', 1), ('legislative', 2), ('executive', 2), ('judicial', 2), ('department', 4), ('vested', 3), ('legislature', 3), ('senate', 3), ('assembly', 3), ('senator', 1), ('elected', 4), ('voters', 2), ('sixty', 1), ('assemblymen', 1), ('apportioned', 1), ('according', 5), ('person', 1), ('successive', 1), ('terms', 1), ('courts', 3), ('principal', 14), ('court', 6), ('errors', 1), ('appeals', 1), ('chancery', 1), ('supreme', 1), ('circuit', 1), ('pleas', 1), ('judges', 1), ('appointed', 1), ('approval', 1), ('capitol', 2), ('officers', 3), ('secretary', 1), ('treasurer', 1), ('comptroller', 1), ('attorneygeneral', 1), ('twentyone', 1), ('townships', 1), ('boroughs', 3), ('administered', 1), ('accordance', 1), ('judge', 1), ('sheriff', 1), ('clerk', 1), ('surrogate', 1), ('coroner', 1), ('collector', 1), ('members', 2), ('freeholders', 1), ('vote', 1), ('courthouses', 1), ('penitentiaries', 1), ('homes', 8), ('aged', 1), ('poor', 1), ('parental', 1), ('detention', 1), ('juvenile', 2), ('delinquents', 1), ('witnesses', 1), ('represented', 1), ('united', 12), ('congress', 1), ('senators', 1), ('normal', 8), ('montclair', 4), ('requires', 1), ('shall', 1), ('support', 1), ('thorough', 1), ('efficient', 1), ('system', 2), ('free', 1), ('schools', 12), ('children', 1), ('requirement', 1), ('enforce', 1), ('commissioner', 1), ('assistant', 1), ('commissioners', 1), ('superintendent', 2), ('supervising', 1), ('nassua', 1), ('hall', 2), ('university', 3), ('pupils', 1), ('attended', 1), ('teachers', 4), ('compulsory', 1), ('attendance', 1), ('illiterates', 2), ('age', 1), ('could', 1), ('read', 1), ('write', 1), ('foreign', 1), ('birth', 1), ('native', 1), ('parentage', 1), ('training', 3), ('glassboro', 2), ('maintained', 3), ('preparation', 3), ('appropriations', 1), ('farnum', 1), ('beverly', 2), ('associated', 2), ('deaf', 1), ('manual', 1), ('industrial', 25), ('colored', 2), ('youths', 1), ('institutions', 3), ('learning', 1), ('stevens', 2), ('institute', 2), ('technology', 2), ('st', 3), ('peter', 1), ('convent', 1), ('mary', 1), ('plainfield', 3), ('theological', 2), ('seminary', 2), ('madison', 2), ('seton', 1), ('orange', 11), ('upsala', 1), ('kenilworth', 1), ('bloomfield', 5), ('metropolitan', 13), ('district', 14), ('census', 5), ('density', 4), ('mile', 6), ('giving', 1), ('tenth', 1), ('essex', 2), ('sixtyfive', 1), ('thickly', 1), ('scattered', 1), ('urban', 1), ('residing', 1), ('leaves', 1), ('rural', 1), ('stock', 1), ('chief', 7), ('commerce', 2), ('enterprises', 1), ('business', 4), ('pursuits', 1), ('neighboring', 6), ('opportunities', 1), ('comfortable', 1), ('residence', 3), ('conveniences', 1), ('unsurpassed', 1), ('traveling', 1), ('back', 1), ('forth', 1), ('attract', 1), ('employed', 2), ('included', 2), ('gloucester', 2), ('thirds', 1), ('influence', 2), ('activities', 3), ('bureau', 1), ('defines', 1), ('central', 1), ('lie', 1), ('within', 1), ('streets', 1), ('villages', 2), ('placed', 1), ('groups', 1), ('outside', 1), ('following', 2), ('environs', 2), ('fifteenth', 1), ('frontage', 3), ('eleven', 2), ('kill', 5), ('van', 3), ('kull', 3), ('dredged', 1), ('channel', 1), ('hundred', 2), ('deep', 2), ('improvement', 1), ('improvements', 1), ('expense', 1), ('enjoys', 2), ('nine', 1), ('directly', 3), ('passenger', 2), ('trains', 1), ('banks', 2), ('office', 1), ('stores', 1), ('trolley', 4), ('radiate', 2), ('trade', 3), ('variety', 1), ('eleventh', 1), ('progress', 1), ('start', 1), ('stimulus', 1), ('opening', 2), ('shoes', 4), ('hats', 5), ('jewelry', 1), ('steel', 12), ('brass', 3), ('watch', 2), ('paints', 3), ('varnishes', 2), ('clothing', 3), ('appliances', 6), ('tinware', 1), ('advertising', 1), ('novelties', 2), ('celluloid', 1), ('trunks', 2), ('furs', 1), ('brewery', 1), ('cigars', 5), ('storagebattery', 1), ('factory', 2), ('drawn', 1), ('twentysix', 1), ('surrounding', 5), ('reflect', 1), ('social', 1), ('influences', 1), ('belleville', 2), ('nutley', 2), ('glen', 2), ('ridge', 2), ('irvington', 2), ('residential', 16), ('eligible', 1), ('sites', 1), ('exceptionally', 1), ('active', 5), ('providing', 1), ('educational', 4), ('naturally', 1), ('discouraged', 1), ('nearest', 1), ('activity', 2), ('respect', 1), ('slope', 1), ('commanding', 1), ('view', 1), ('populous', 3), ('multitude', 1), ('home', 2), ('similarly', 1), ('situated', 7), ('dwellings', 1), ('lamps', 4), ('worsted', 3), ('labels', 1), ('cream', 1), ('separators', 1), ('residences', 2), ('attractiveness', 1), ('dwelling', 1), ('cost', 1), ('invite', 1), ('motors', 1), ('generators', 1), ('surgical', 2), ('phonographs', 1), ('phonograph', 1), ('records', 1), ('moving', 1), ('picture', 1), ('instruments', 2), ('films', 1), ('batteries', 1), ('developing', 1), ('rather', 1), ('feeling', 2), ('impulse', 3), ('suburb', 2), ('castings', 3), ('graphite', 2), ('tools', 3), ('cutlery', 1), ('platinum', 1), ('harrison', 2), ('kearney', 2), ('arlington', 1), ('officially', 1), ('seat', 1), ('nearer', 1), ('ties', 1), ('prosperous', 6), ('national', 1), ('thread', 2), ('rollers', 1), ('incandescent', 1), ('steam', 2), ('pumps', 1), ('roller', 1), ('bearings', 1), ('elevators', 1), ('tin', 1), ('toys', 1), ('metal', 2), ('linoleums', 1), ('yarns', 4), ('twine', 1), ('glue', 1), ('oils', 1), ('seen', 1), ('narrow', 1), ('peninsula', 3), ('densely', 2), ('group', 3), ('twentyfirst', 1), ('occupied', 1), ('soon', 2), ('church', 1), ('westward', 1), ('unexcelled', 2), ('seaports', 1), ('thirteen', 1), ('freight', 2), ('sail', 1), ('nineteen', 1), ('trust', 1), ('connection', 2), ('passengers', 1), ('heart', 2), ('minutes', 1), ('sugar', 2), ('printers', 1), ('type', 1), ('soaps', 1), ('perfumes', 1), ('silks', 4), ('embroideries', 4), ('lead', 3), ('pencils', 2), ('fire', 2), ('hose', 1), ('soups', 2), ('watches', 1), ('heating', 1), ('lighting', 1), ('apparatus', 1), ('rope', 1), ('eight', 1), ('library', 1), ('live', 1), ('connections', 2), ('steamships', 1), ('transatlantic', 1), ('scandinavian', 1), ('dock', 1), ('shipbuilding', 4), ('repairing', 1), ('surveying', 1), ('nautical', 1), ('marine', 2), ('engines', 1), ('boilers', 4), ('furniture', 1), ('wall', 2), ('wellknown', 3), ('industrially', 2), ('similar', 2), ('guttenberg', 1), ('secaucus', 2), ('thriving', 2), ('communities', 1), ('leads', 1), ('shops', 4), ('pianos', 3), ('lard', 1), ('vegetable', 2), ('gives', 2), ('exceptional', 1), ('deepwater', 2), ('ohio', 1), ('refineries', 1), ('bronze', 1), ('cottonseed', 1), ('nickel', 1), ('borax', 1), ('insulated', 2), ('character', 2), ('englewood', 1), ('fort', 1), ('lee', 1), ('edgewater', 1), ('foot', 1), ('sirups', 1), ('founding', 1), ('suggested', 1), ('alexander', 1), ('hamilton', 1), ('foresaw', 1), ('foundries', 3), ('locomotive', 1), ('dyeing', 3), ('cordage', 1), ('handkerchiefs', 1), ('cotton', 1), ('belting', 1), ('packing', 1), ('print', 1), ('chemical', 2), ('docks', 1), ('embarkation', 1), ('debarkation', 1), ('clifton', 1), ('lodi', 1), ('garfield', 1), ('waxed', 1), ('carpets', 1), ('rugs', 1), ('rutherford', 1), ('hasbrouck', 1), ('heights', 1), ('ridgewood', 1), ('westwood', 1), ('inviting', 1), ('residents', 1), ('oldest', 2), ('philip', 1), ('favorably', 1), ('arthur', 2), ('tanning', 1), ('printing', 3), ('always', 2), ('place', 2), ('rahway', 1), ('flourishing', 1), ('cereals', 1), ('music', 1), ('boxes', 1), ('book', 1), ('binding', 1), ('roselle', 2), ('cranford', 1), ('westfield', 1), ('garwood', 1), ('alternated', 1), ('meeting', 1), ('fifteen', 1), ('mouth', 2), ('earthenware', 2), ('vaseline', 1), ('boat', 1), ('metuchen', 1), ('sayreville', 2), ('output', 1), ('outskirts', 2), ('beyond', 1), ('yet', 1), ('associations', 2), ('distinctively', 2), ('possesses', 1), ('another', 2), ('peculiar', 1), ('roses', 1), ('dover', 1), ('picturesque', 2), ('locations', 1), ('hosiery', 2), ('presses', 1), ('garments', 1), ('somerville', 2), ('laces', 1), ('bound', 2), ('brook', 2), ('junction', 1), ('finderne', 1), ('asbestos', 1), ('ferry', 2), ('dressings', 1), ('automobiles', 1), ('boys', 1), ('jamesburg', 1), ('rail', 2), ('freehold', 1), ('rugmaking', 1), ('capital', 2), ('occurred', 1), ('commemorated', 1), ('imposing', 1), ('head', 1), ('navigation', 1), ('rely', 1), ('basis', 1), ('fortyeight', 1), ('potteries', 1), ('rivaled', 1), ('better', 1), ('grades', 1), ('require', 1), ('england', 1), ('france', 1), ('sanitary', 1), ('oilcloth', 1), ('grounds', 1), ('around', 1), ('memorable', 1), ('scene', 1), ('historic', 1), ('lambertville', 1), ('quarries', 1), ('pennington', 1), ('hopewell', 1), ('industrious', 1), ('opposite', 2), ('lehigh', 1), ('meet', 1), ('terminus', 2), ('strongly', 1), ('air', 1), ('compressors', 1), ('drills', 1), ('horseshoes', 1), ('canisters', 1), ('washington', 2), ('blairstown', 2), ('organs', 1), ('saws', 1), ('newton', 1), ('flemington', 1), ('though', 1), ('peachgrowing', 1), ('zincmining', 1), ('usually', 1), ('considered', 1), ('belonging', 1), ('vitally', 1), ('stimulating', 1), ('colonial', 1), ('cooper', 1), ('shares', 1), ('owes', 1), ('crosses', 1), ('completed', 1), ('astonishing', 1), ('rapidity', 1), ('talking', 1), ('battleships', 1), ('merchant', 1), ('candies', 1), ('licorice', 1), ('writing', 1), ('pens', 1), ('filling', 1), ('capping', 1), ('cans', 1), ('riverside', 1), ('truck', 2), ('hardware', 1), ('old', 1), ('tapestry', 1), ('merchantville', 1), ('moorestown', 1), ('collingswood', 1), ('haddonfield', 1), ('gas', 1), ('mantles', 1), ('transport', 1), ('fruit', 1), ('woodbury', 1), ('bottles', 2), ('clayton', 1), ('quakers', 1), ('bridgeton', 2), ('vineland', 2), ('millville', 2), ('mining', 1), ('product', 1), ('berries', 2), ('tree', 1), ('preserved', 1), ('produces', 1), ('bottled', 1), ('diversified', 1), ('house', 1), ('convenient', 1), ('access', 1), ('visit', 1), ('seaside', 2), ('entirely', 1), ('entertainment', 1), ('said', 1), ('thousand', 1), ('hotels', 1), ('numbers', 1), ('somewhat', 1), ('estimated', 1), ('convalescing', 1), ('illness', 1), ('seek', 1), ('recuperate', 1), ('entire', 1), ('mark', 1), ('standing', 1), ('pleasant', 1), ('girt', 1), ('belmar', 1), ('grove', 1), ('bright', 1), ('bank', 1), ('navesink', 1), ('classed', 1), ('lakewood', 1), ('winter', 1)]) \n",
      "\n"
     ]
    }
   ],
   "source": [
    "from keras.preprocessing.text import Tokenizer\n",
    "\n",
    "# create the tokenizer\n",
    "t = Tokenizer()\n",
    "# fit the tokenizer on the documents\n",
    "t.fit_on_texts(words)\n",
    "# summarize what was learned\n",
    "print(\"Word count: \",t.word_counts,\"\\n\")"
   ]
  },
  {
   "cell_type": "code",
   "execution_count": 8,
   "metadata": {},
   "outputs": [
    {
     "name": "stdout",
     "output_type": "stream",
     "text": [
      "Document count:  6363 \n",
      "\n"
     ]
    }
   ],
   "source": [
    "print(\"Document count: \",t.document_count,\"\\n\")"
   ]
  },
  {
   "cell_type": "code",
   "execution_count": 9,
   "metadata": {},
   "outputs": [
    {
     "name": "stdout",
     "output_type": "stream",
     "text": [
      "Word index:  {'state': 1, 'new': 2, 'city': 3, 'jersey': 4, 'river': 5, 'many': 6, 'delaware': 7, 'york': 8, 'products': 9, 'cities': 10, 'part': 11, 'industries': 12, 'bay': 13, 'water': 14, 'important': 15, 'population': 16, 'towns': 17, 'illustration': 18, 'county': 19, 'parts': 20, 'newark': 21, 'large': 22, 'located': 23, 'manufacturing': 24, 'states': 25, 'manufacture': 26, 'industrial': 27, 'trenton': 28, 'miles': 29, 'great': 30, 'industry': 31, 'passaic': 32, 'hudson': 33, 'along': 34, 'facilities': 35, 'goods': 36, 'one': 37, 'extensive': 38, 'also': 39, 'south': 40, 'northern': 41, 'atlantic': 42, 'iron': 43, 'north': 44, 'west': 45, 'transportation': 46, 'found': 47, 'counties': 48, 'section': 49, 'near': 50, 'railroad': 51, 'residential': 52, 'line': 53, 'raritan': 54, 'land': 55, 'paterson': 56, 'ocean': 57, 'philadelphia': 58, 'first': 59, 'east': 60, 'town': 61, 'among': 62, 'rock': 63, 'may': 64, 'feet': 65, 'streams': 66, 'long': 67, 'kinds': 68, 'camden': 69, 'purposes': 70, 'manufactures': 71, 'silk': 72, 'principal': 73, 'district': 74, 'square': 75, 'highlands': 76, 'mountains': 77, 'clay': 78, 'metropolitan': 79, 'made': 80, 'zone': 81, 'extends': 82, 'country': 83, 'coast': 84, 'whose': 85, 'sand': 86, 'hoboken': 87, 'center': 88, 'used': 89, 'per': 90, 'college': 91, 'railroads': 92, 'united': 93, 'schools': 94, 'steel': 95, 'places': 96, 'southern': 97, 'pennsylvania': 98, 'valley': 99, 'much': 100, 'besides': 101, 'amboy': 102, 'largest': 103, 'connected': 104, 'people': 105, 'lines': 106, 'factories': 107, 'value': 108, 'growing': 109, 'canal': 110, 'orange': 111, 'area': 112, 'mountain': 113, 'forest': 114, 'commercial': 115, 'excellent': 116, 'power': 117, 'growth': 118, 'soil': 119, 'school': 120, 'works': 121, 'dutch': 122, 'including': 123, 'third': 124, 'surface': 125, 'northeast': 126, 'contains': 127, 'glacial': 128, 'deposits': 129, 'sea': 130, 'falls': 131, 'centers': 132, 'grown': 133, 'increased': 134, 'glass': 135, 'morris': 136, 'making': 137, 'electrical': 138, 'communication': 139, 'attractive': 140, 'waters': 141, 'still': 142, 'time': 143, 'government': 144, 'general': 145, 'appalachian': 146, 'piedmont': 147, 'plateau': 148, 'kittatinny': 149, 'summer': 150, 'raising': 151, 'hackensack': 152, 'perth': 153, 'basin': 154, 'largely': 155, 'settled': 156, 'years': 157, 'quantities': 158, 'marl': 159, 'special': 160, 'agricultural': 161, 'canning': 162, 'roads': 163, 'manufactured': 164, 'number': 165, 'world': 166, 'homes': 167, 'normal': 168, 'early': 169, 'little': 170, 'princeton': 171, 'plain': 172, 'southwest': 173, 'forests': 174, 'noted': 175, 'second': 176, 'resort': 177, 'gravel': 178, 'western': 179, 'less': 180, 'covered': 181, 'therefore': 182, 'due': 183, 'drainage': 184, 'elizabeth': 185, 'supply': 186, 'health': 187, 'cent': 188, 'importance': 189, 'rich': 190, 'vegetables': 191, 'two': 192, 'rapidly': 193, 'machine': 194, 'woolen': 195, 'machinery': 196, 'rubber': 197, 'public': 198, 'tunnels': 199, 'chief': 200, 'situated': 201, 'northwest': 202, 'bergen': 203, 'governor': 204, 'size': 205, 'known': 206, 'extending': 207, 'coastal': 208, 'elevation': 209, 'southeast': 210, 'lakes': 211, 'particularly': 212, 'agriculture': 213, 'farms': 214, 'devoted': 215, 'crops': 216, 'popular': 217, 'fruits': 218, 'valuable': 219, 'palisades': 220, 'composed': 221, 'nearness': 222, 'interior': 223, 'three': 224, 'total': 225, 'flow': 226, 'several': 227, 'lake': 228, 'brunswick': 229, 'park': 230, 'farther': 231, 'rapid': 232, 'mills': 233, 'obtained': 234, 'include': 235, 'fisheries': 236, 'construction': 237, 'varied': 238, 'protection': 239, 'oil': 240, 'abundance': 241, 'union': 242, 'phillipsburg': 243, 'pottery': 244, 'leather': 245, 'ferries': 246, 'court': 247, 'mile': 248, 'neighboring': 249, 'appliances': 250, 'prosperous': 251, 'called': 252, 'southwestern': 253, 'point': 254, 'cape': 255, 'wide': 256, 'varies': 257, 'corner': 258, 'high': 259, 'beautiful': 260, 'flows': 261, 'well': 262, 'region': 263, 'farm': 264, 'specially': 265, 'cement': 266, 'middlesex': 267, 'watchung': 268, 'trap': 269, 'larger': 270, 'fourth': 271, 'marshes': 272, 'tidal': 273, 'beaches': 274, 'ice': 275, 'carried': 276, 'basins': 277, 'terminal': 278, 'bring': 279, 'location': 280, 'provide': 281, 'pipe': 282, 'animals': 283, 'farming': 284, 'maintains': 285, 'thousands': 286, 'production': 287, 'milk': 288, 'resorts': 289, 'makes': 290, 'sections': 291, 'establishments': 292, 'station': 293, 'superior': 294, 'building': 295, 'paper': 296, 'chemicals': 297, 'advantages': 298, 'education': 299, 'according': 300, 'bloomfield': 301, 'census': 302, 'kill': 303, 'hats': 304, 'cigars': 305, 'surrounding': 306, 'active': 307, 'different': 308, 'established': 309, 'settlements': 310, 'permanent': 311, 'lying': 312, 'carteret': 313, 'latter': 314, 'divided': 315, 'morristown': 316, 'monmouth': 317, 'famous': 318, 'battle': 319, 'middle': 320, 'sandy': 321, 'four': 322, 'consists': 323, 'northwestern': 324, 'vicinity': 325, 'twelve': 326, 'highest': 327, 'account': 328, 'although': 329, 'lands': 330, 'irregular': 331, 'fertile': 332, 'valleys': 333, 'woodbridge': 334, 'fall': 335, 'sec': 336, 'fifth': 337, 'presence': 338, 'eastern': 339, 'higher': 340, 'ridges': 341, 'mount': 342, 'salt': 343, 'good': 344, 'period': 345, 'glacier': 346, 'climate': 347, 'lower': 348, 'ample': 349, 'local': 350, 'northeastern': 351, 'drained': 352, 'bays': 353, 'summit': 354, 'developed': 355, 'formerly': 356, 'sources': 357, 'make': 358, 'pollution': 359, 'stations': 360, 'populated': 361, 'profitable': 362, 'provided': 363, 'laws': 364, 'plants': 365, 'areas': 366, 'however': 367, 'soils': 368, 'shipping': 369, 'hackettstown': 370, 'markets': 371, 'fertilizers': 372, 'cultivation': 373, 'poultry': 374, 'warren': 375, 'burlington': 376, 'dairy': 377, 'increase': 378, 'rutgers': 379, 'mines': 380, 'sussex': 381, 'beds': 382, 'fine': 383, 'clays': 384, 'copper': 385, 'wire': 386, 'engaged': 387, 'refining': 388, 'travel': 389, 'connect': 390, 'trunk': 391, 'bridge': 392, 'year': 393, 'board': 394, 'occupations': 395, 'persons': 396, 'department': 397, 'elected': 398, 'montclair': 399, 'teachers': 400, 'density': 401, 'business': 402, 'trolley': 403, 'shoes': 404, 'educational': 405, 'lamps': 406, 'yarns': 407, 'silks': 408, 'embroideries': 409, 'shipbuilding': 410, 'boilers': 411, 'shops': 412, 'history': 413, 'white': 414, 'founded': 415, 'granted': 416, 'rivers': 417, 'led': 418, 'hook': 419, 'half': 420, 'lies': 421, 'latitude': 422, 'shore': 423, 'smallest': 424, 'provinces': 425, 'zones': 426, 'across': 427, 'gap': 428, 'belt': 429, 'visitors': 430, 'southeastern': 431, 'ten': 432, 'natural': 433, 'recreation': 434, 'peaches': 435, 'zinc': 436, 'level': 437, 'red': 438, 'sandstone': 439, 'hunterdon': 440, 'forced': 441, 'underlying': 442, 'formed': 443, 'includes': 444, 'holly': 445, 'greatest': 446, 'constructed': 447, 'shallow': 448, 'becoming': 449, 'material': 450, 'hills': 451, 'filled': 452, 'moraine': 453, 'passed': 454, 'subject': 455, 'extreme': 456, 'annual': 457, 'temperature': 458, 'end': 459, 'greater': 460, 'toward': 461, 'rainfall': 462, 'spring': 463, 'felt': 464, 'fifty': 465, 'least': 466, 'small': 467, 'considerable': 468, 'pequannock': 469, 'rockaway': 470, 'course': 471, 'bayonne': 472, 'flowed': 473, 'drift': 474, 'disappeared': 475, 'electric': 476, 'closely': 477, 'systems': 478, 'interests': 479, 'storage': 480, 'municipal': 481, 'upper': 482, 'abandoned': 483, 'cooperation': 484, 'pines': 485, 'extent': 486, 'trees': 487, 'fires': 488, 'use': 489, 'care': 490, 'adopted': 491, 'nearly': 492, 'acres': 493, 'parks': 494, 'practically': 495, 'numerous': 496, 'means': 497, 'successful': 498, 'productive': 499, 'produced': 500, 'raised': 501, 'favorable': 502, 'demand': 503, 'market': 504, 'attention': 505, 'buildings': 506, 'produce': 507, 'quality': 508, 'instruction': 509, 'century': 510, 'last': 511, 'slate': 512, 'mentioned': 513, 'establishment': 514, 'brick': 515, 'terra': 516, 'cotta': 517, 'brought': 518, 'thus': 519, 'coal': 520, 'ships': 521, 'sixth': 522, 'linoleum': 523, 'sewing': 524, 'machines': 525, 'supplies': 526, 'gold': 527, 'silver': 528, 'vessels': 529, 'built': 530, 'bordentown': 531, 'direct': 532, 'pass': 533, 'automobile': 534, 'given': 535, 'vested': 536, 'legislature': 537, 'senate': 538, 'assembly': 539, 'courts': 540, 'officers': 541, 'boroughs': 542, 'university': 543, 'training': 544, 'maintained': 545, 'preparation': 546, 'institutions': 547, 'st': 548, 'plainfield': 549, 'residence': 550, 'activities': 551, 'frontage': 552, 'van': 553, 'kull': 554, 'directly': 555, 'trade': 556, 'brass': 557, 'paints': 558, 'clothing': 559, 'populous': 560, 'worsted': 561, 'impulse': 562, 'castings': 563, 'tools': 564, 'peninsula': 565, 'group': 566, 'lead': 567, 'wellknown': 568, 'pianos': 569, 'foundries': 570, 'dyeing': 571, 'printing': 572, 'indians': 573, 'settlers': 574, 'swedes': 575, 'english': 576, 'geographical': 577, 'names': 578, 'various': 579, 'india': 580, 'sailed': 581, 'amsterdam': 582, 'afterwards': 583, 'form': 584, 'colony': 585, 'ii': 586, 'berkeley': 587, 'sir': 588, 'proprietors': 589, 'running': 590, 'egg': 591, 'harbor': 592, 'often': 593, 'independence': 594, 'five': 595, 'representatives': 596, 'position': 597, 'war': 598, 'path': 599, 'revolution': 600, 'revolutionary': 601, 'troops': 602, 'every': 603, 'monument': 604, 'physical': 605, 'political': 606, 'port': 607, 'tristates': 608, 'length': 609, 'widest': 610, 'fortyfifth': 611, 'relief': 612, 'way': 613, 'mountainous': 614, 'undulating': 615, 'low': 616, 'stands': 617, 'boundaries': 618, 'width': 619, 'fourteen': 620, 'thirty': 621, 'height': 622, 'range': 623, 'parallel': 624, 'rugged': 625, 'scenery': 626, 'adapted': 627, 'grazing': 628, 'boundary': 629, 'passes': 630, 'boonton': 631, 'twenty': 632, 'generally': 633, 'altitude': 634, 'term': 635, 'consisting': 636, 'contain': 637, 'beauty': 638, 'desire': 639, 'suitable': 640, 'next': 641, 'characterized': 642, 'shale': 643, 'rolling': 644, 'condition': 645, 'strata': 646, 'sides': 647, 'steep': 648, 'slopes': 649, 'away': 650, 'hard': 651, 'barnegat': 652, 'elevations': 653, 'meadows': 654, 'wind': 655, 'manasquan': 656, 'mainland': 657, 'washed': 658, 'bowlders': 659, 'outlets': 660, 'belvidere': 661, 'rocks': 662, 'southward': 663, 'average': 664, 'distance': 665, 'winds': 666, 'cross': 667, 'sufficient': 668, 'inches': 669, 'highland': 670, 'light': 671, 'tributaries': 672, 'wallkill': 673, 'rises': 674, 'affected': 675, 'navigable': 676, 'courses': 677, 'branch': 678, 'asbury': 679, 'broad': 680, 'stream': 681, 'sheet': 682, 'receded': 683, 'gaps': 684, 'generated': 685, 'dependent': 686, 'upon': 687, 'methods': 688, 'wells': 689, 'quantity': 690, 'drew': 691, 'far': 692, 'former': 693, 'gradually': 694, 'sewage': 695, 'discharged': 696, 'cases': 697, 'sewers': 698, 'freshwater': 699, 'necessity': 700, 'legislation': 701, 'maintain': 702, 'preventing': 703, 'prevent': 704, 'vast': 705, 'pine': 706, 'oak': 707, 'impossible': 708, 'forested': 709, 'recent': 710, 'destructive': 711, 'constant': 712, 'shade': 713, 'six': 714, 'containing': 715, 'authorized': 716, 'regarding': 717, 'acting': 718, 'together': 719, 'created': 720, 'embraces': 721, 'tomatoes': 722, 'swedesboro': 723, 'wild': 724, 'animal': 725, 'shad': 726, 'fishing': 727, 'fertilizer': 728, 'keyport': 729, 'mixed': 730, 'salem': 731, 'extensively': 732, 'corn': 733, 'pasture': 734, 'hay': 735, 'eggs': 736, 'gardening': 737, 'encouraged': 738, 'abundant': 739, 'grape': 740, 'juice': 741, 'common': 742, 'especially': 743, 'clear': 744, 'experiment': 745, 'ore': 746, 'since': 747, 'furnaces': 748, 'profitably': 749, 'neighborhood': 750, 'franklin': 751, 'furnace': 752, 'ranks': 753, 'granite': 754, 'quarrying': 755, 'certain': 756, 'adjacent': 757, 'road': 758, 'molding': 759, 'tile': 760, 'enormous': 761, 'finer': 762, 'conditions': 763, 'demands': 764, 'advantage': 765, 'greatly': 766, 'fields': 767, 'workers': 768, 'unusually': 769, 'refined': 770, 'shop': 771, 'petroleum': 772, 'meats': 773, 'tobacco': 774, 'massachusetts': 775, 'rhode': 776, 'island': 777, 'connecticut': 778, 'smelting': 779, 'articles': 780, 'days': 781, 'companies': 782, 'canals': 783, 'route': 784, 'development': 785, 'terminals': 786, 'weehawken': 787, 'compared': 788, 'railway': 789, 'points': 790, 'proposed': 791, 'municipalities': 792, 'sums': 793, 'money': 794, 'maintenance': 795, 'pleasure': 796, 'kind': 797, 'law': 798, 'progressive': 799, 'plans': 800, 'purpose': 801, 'constitution': 802, 'legislative': 803, 'executive': 804, 'judicial': 805, 'voters': 806, 'capitol': 807, 'members': 808, 'juvenile': 809, 'system': 810, 'superintendent': 811, 'hall': 812, 'illiterates': 813, 'glassboro': 814, 'beverly': 815, 'associated': 816, 'colored': 817, 'stevens': 818, 'institute': 819, 'technology': 820, 'theological': 821, 'seminary': 822, 'madison': 823, 'essex': 824, 'commerce': 825, 'employed': 826, 'included': 827, 'gloucester': 828, 'influence': 829, 'villages': 830, 'following': 831, 'environs': 832, 'eleven': 833, 'hundred': 834, 'deep': 835, 'enjoys': 836, 'passenger': 837, 'banks': 838, 'radiate': 839, 'opening': 840, 'watch': 841, 'varnishes': 842, 'novelties': 843, 'trunks': 844, 'factory': 845, 'belleville': 846, 'nutley': 847, 'glen': 848, 'ridge': 849, 'irvington': 850, 'activity': 851, 'home': 852, 'residences': 853, 'surgical': 854, 'instruments': 855, 'feeling': 856, 'suburb': 857, 'graphite': 858, 'harrison': 859, 'kearney': 860, 'thread': 861, 'steam': 862, 'metal': 863, 'densely': 864, 'soon': 865, 'unexcelled': 866, 'freight': 867, 'connection': 868, 'heart': 869, 'sugar': 870, 'pencils': 871, 'fire': 872, 'soups': 873, 'connections': 874, 'marine': 875, 'wall': 876, 'industrially': 877, 'similar': 878, 'secaucus': 879, 'thriving': 880, 'vegetable': 881, 'gives': 882, 'deepwater': 883, 'insulated': 884, 'character': 885, 'chemical': 886, 'oldest': 887, 'arthur': 888, 'always': 889, 'place': 890, 'roselle': 891, 'mouth': 892, 'earthenware': 893, 'sayreville': 894, 'outskirts': 895, 'associations': 896, 'distinctively': 897, 'another': 898, 'picturesque': 899, 'hosiery': 900, 'somerville': 901, 'bound': 902, 'brook': 903, 'ferry': 904, 'rail': 905, 'capital': 906, 'opposite': 907, 'terminus': 908, 'washington': 909, 'blairstown': 910, 'truck': 911, 'bottles': 912, 'bridgeton': 913, 'vineland': 914, 'millville': 915, 'berries': 916, 'seaside': 917, 'original': 918, 'inhabitants': 919, 'h': 920, 'tribe': 921, 'belonged': 922, 'algonquin': 923, 'family': 924, 'nationalities': 925, 'french': 926, 'interesting': 927, 'reminders': 928, 'occupants': 929, 'exploration': 930, 'henry': 931, 'employ': 932, 'company': 933, 'week': 934, 'search': 935, 'passage': 936, 'failing': 937, 'find': 938, 'entered': 939, 'trading': 940, 'post': 941, 'later': 942, 'attempted': 943, 'expelled': 944, 'proved': 945, 'temporary': 946, 'settlement': 947, 'separate': 948, 'took': 949, 'possession': 950, 'netherland': 951, 'king': 952, 'charles': 953, 'brother': 954, 'duke': 955, 'turn': 956, 'lord': 957, 'john': 958, 'george': 959, 'isle': 960, 'grant': 961, 'named': 962, 'honor': 963, 'disagreements': 964, 'sell': 965, 'interest': 966, 'william': 967, 'penn': 968, 'division': 969, 'referred': 970, 'jerseys': 971, 'surrendered': 972, 'proprietary': 973, 'rights': 974, 'crown': 975, 'whole': 976, 'royal': 977, 'signed': 978, 'declaration': 979, 'paulus': 980, 'springfield': 981, 'conflict': 982, 'army': 983, 'wayne': 984, 'punished': 985, 'wyoming': 986, 'massacre': 987, 'soldiers': 988, 'maxwell': 989, 'longitude': 990, 'northernmost': 991, 'marked': 992, 'jervis': 993, 'narrowest': 994, 'measured': 995, 'inlet': 996, 'described': 997, 'namely': 998, 'extend': 999, 'man': 1000, 'intersection': 1001, 'topographic': 1002, 'blue': 1003, 'side': 1004, 'runs': 1005, 'map': 1006, 'attracts': 1007, 'break': 1008, 'rough': 1009, 'bottom': 1010, 'bordering': 1011, 'immediately': 1012, 'hamburg': 1013, 'wawayanda': 1014, 'reach': 1015, 'belong': 1016, 'applied': 1017, 'masses': 1018, 'interspersed': 1019, 'origin': 1020, 'consequently': 1021, 'outdoor': 1022, 'mineral': 1023, 'represents': 1024, 'comprises': 1025, 'plateaus': 1026, 'molten': 1027, 'overlying': 1028, 'worn': 1029, 'harder': 1030, 'resisted': 1031, 'erosion': 1032, 'seventy': 1033, 'passing': 1034, 'wearing': 1035, 'softer': 1036, 'lighthouse': 1037, 'remainder': 1038, 'outward': 1039, 'towards': 1040, 'margins': 1041, 'fourths': 1042, 'portion': 1043, 'bordered': 1044, 'rarely': 1045, 'almost': 1046, 'separated': 1047, 'action': 1048, 'waves': 1049, 'absent': 1050, 'beach': 1051, 'deposit': 1052, 'sediment': 1053, 'harbors': 1054, 'barrier': 1055, 'shallowness': 1056, 'moraines': 1057, 'consist': 1058, 'take': 1059, 'others': 1060, 'spread': 1061, 'sheets': 1062, 'partly': 1063, 'occupy': 1064, 'scooped': 1065, 'blocked': 1066, 'marks': 1067, 'limit': 1068, 'polished': 1069, 'surfaces': 1070, 'left': 1071, 'scratches': 1072, 'indicate': 1073, 'movement': 1074, 'beneath': 1075, 'continental': 1076, 'shelf': 1077, 'ancient': 1078, 'milder': 1079, 'fluctuation': 1080, 'prevailing': 1081, 'track': 1082, 'storms': 1083, 'continent': 1084, 'blowing': 1085, 'storm': 1086, 'moisture': 1087, 'insure': 1088, 'showers': 1089, 'thunderstorms': 1090, 'move': 1091, 'frequent': 1092, 'months': 1093, 'benefit': 1094, 'breezes': 1095, 'precipitation': 1096, 'fortyone': 1097, 'divide': 1098, 'drain': 1099, 'saddle': 1100, 'pompton': 1101, 'ramapo': 1102, 'wanaque': 1103, 'greenwood': 1104, 'follows': 1105, 'tortuous': 1106, 'border': 1107, 'case': 1108, 'tide': 1109, 'flat': 1110, 'crossed': 1111, 'millburn': 1112, 'geologists': 1113, 'call': 1114, 'liberty': 1115, 'exposed': 1116, 'older': 1117, 'escaped': 1118, 'present': 1119, 'changes': 1120, 'explain': 1121, 'swampy': 1122, 'descent': 1123, 'utilized': 1124, 'secured': 1125, 'rapids': 1126, 'supplying': 1127, 'domestic': 1128, 'nearby': 1129, 'springs': 1130, 'became': 1131, 'contaminated': 1132, 'dangerous': 1133, 'danger': 1134, 'required': 1135, 'provision': 1136, 'securing': 1137, 'remote': 1138, 'watersupply': 1139, 'pumping': 1140, 'reservoirs': 1141, 'taken': 1142, 'thinly': 1143, 'useful': 1144, 'furnishing': 1145, 'draw': 1146, 'polluted': 1147, 'waste': 1148, 'source': 1149, 'distances': 1150, 'using': 1151, 'artesian': 1152, 'drains': 1153, 'destroys': 1154, 'fish': 1155, 'damage': 1156, 'even': 1157, 'oyster': 1158, 'clam': 1159, 'alive': 1160, 'protecting': 1161, 'contamination': 1162, 'enacted': 1163, 'designed': 1164, 'purity': 1165, 'objectionable': 1166, 'matter': 1167, 'trunkline': 1168, 'sewer': 1169, 'primeval': 1170, 'maple': 1171, 'chestnut': 1172, 'hickory': 1173, 'ash': 1174, 'walnut': 1175, 'tulip': 1176, 'poplar': 1177, 'cedar': 1178, 'lumbering': 1179, 'ceased': 1180, 'ago': 1181, 'best': 1182, 'timber': 1183, 'cut': 1184, 'difficult': 1185, 'promise': 1186, 'future': 1187, 'stunted': 1188, 'mingled': 1189, 'scrub': 1190, 'isolated': 1191, 'forty': 1192, 'organized': 1193, 'efforts': 1194, 'protect': 1195, 'agencies': 1196, 'reforestation': 1197, 'realized': 1198, 'promoting': 1199, 'available': 1200, 'recognized': 1201, 'floods': 1202, 'secs': 1203, 'additional': 1204, 'reason': 1205, 'preserving': 1206, 'obtain': 1207, 'times': 1208, 'breaks': 1209, 'justify': 1210, 'reasons': 1211, 'provides': 1212, 'owns': 1213, 'reserves': 1214, 'culture': 1215, 'create': 1216, 'diffusion': 1217, 'information': 1218, 'lookout': 1219, 'detected': 1220, 'force': 1221, 'firewardens': 1222, 'extinguish': 1223, 'arrest': 1224, 'cause': 1225, 'interstate': 1226, 'deer': 1227, 'frequently': 1228, 'afforded': 1229, 'smaller': 1230, 'rabbit': 1231, 'squirrel': 1232, 'ducks': 1233, 'quail': 1234, 'abound': 1235, 'bass': 1236, 'trout': 1237, 'pickerel': 1238, 'perch': 1239, 'catch': 1240, 'sturgeon': 1241, 'constantly': 1242, 'restocked': 1243, 'hatcheries': 1244, 'owing': 1245, 'chiefly': 1246, 'sheltered': 1247, 'inlets': 1248, 'bluefish': 1249, 'weakfish': 1250, 'food': 1251, 'menhaden': 1252, 'caught': 1253, 'coves': 1254, 'immense': 1255, 'oysters': 1256, 'clams': 1257, 'gathered': 1258, 'tuckerton': 1259, 'absecon': 1260, 'maurice': 1261, 'cove': 1262, 'bivalve': 1263, 'denuded': 1264, 'easy': 1265, 'cultivate': 1266, 'stones': 1267, 'disintegrated': 1268, 'consisted': 1269, 'gneiss': 1270, 'sandstones': 1271, 'shales': 1272, 'deposited': 1273, 'shells': 1274, 'lived': 1275, 'strip': 1276, 'past': 1277, 'narrower': 1278, 'enrich': 1279, 'poorer': 1280, 'displaced': 1281, 'richer': 1282, 'socalled': 1283, 'barrens': 1284, 'cover': 1285, 'comparatively': 1286, 'unproductive': 1287, 'proper': 1288, 'application': 1289, 'gathering': 1290, 'grain': 1291, 'compete': 1292, 'plains': 1293, 'wheat': 1294, 'mainly': 1295, 'consumption': 1296, 'rye': 1297, 'buckwheat': 1298, 'limited': 1299, 'circumstances': 1300, 'extremely': 1301, 'flowers': 1302, 'butter': 1303, 'mild': 1304, 'winters': 1305, 'generous': 1306, 'fertility': 1307, 'intensity': 1308, 'potato': 1309, 'crop': 1310, 'sweet': 1311, 'potatoes': 1312, 'prominent': 1313, 'beans': 1314, 'peas': 1315, 'cabbages': 1316, 'celery': 1317, 'onions': 1318, 'fresh': 1319, 'gardeners': 1320, 'devote': 1321, 'stony': 1322, 'apples': 1323, 'pears': 1324, 'strawberries': 1325, 'blackberries': 1326, 'raspberries': 1327, 'grapes': 1328, 'bottling': 1329, 'unfermented': 1330, 'huckleberries': 1331, 'wooded': 1332, 'cranberry': 1333, 'bogs': 1334, 'experimental': 1335, 'easily': 1336, 'prompt': 1337, 'hand': 1338, 'farmer': 1339, 'devoting': 1340, 'feeding': 1341, 'cattle': 1342, 'handling': 1343, 'cumberland': 1344, 'possible': 1345, 'desirable': 1346, 'practical': 1347, 'improve': 1348, 'silage': 1349, 'front': 1350, 'minerals': 1351, 'smelted': 1352, 'shrewsbury': 1353, 'seventeenth': 1354, 'colonel': 1355, 'lewis': 1356, 'quarter': 1357, 'richness': 1358, 'ores': 1359, 'operate': 1360, 'declined': 1361, 'worked': 1362, 'portland': 1363, 'widely': 1364, 'quarried': 1365, 'talc': 1366, 'soapstone': 1367, 'ground': 1368, 'powder': 1369, 'limestone': 1370, 'easton': 1371, 'hardness': 1372, 'macadam': 1373, 'necessary': 1374, 'operations': 1375, 'already': 1376, 'caused': 1377, 'mercer': 1378, 'countries': 1379, 'shipped': 1380, 'remarkable': 1381, 'degree': 1382, 'combination': 1383, 'causes': 1384, 'needs': 1385, 'neighbors': 1386, 'establish': 1387, 'resources': 1388, 'profited': 1389, 'intelligent': 1390, 'skillful': 1391, 'raw': 1392, 'materials': 1393, 'finished': 1394, 'fringe': 1395, 'transcontinental': 1396, 'branches': 1397, 'facilitate': 1398, 'shipments': 1399, 'foundry': 1400, 'packed': 1401, 'see': 1402, 'table': 1403, 'warping': 1404, 'weaving': 1405, 'hampshire': 1406, 'show': 1407, 'proportion': 1408, 'ninth': 1409, 'cloth': 1410, 'paint': 1411, 'varnish': 1412, 'soap': 1413, 'indian': 1414, 'trails': 1415, 'expanded': 1416, 'sailing': 1417, 'effort': 1418, 'keeping': 1419, 'difficulties': 1420, 'turnpikes': 1421, 'private': 1422, 'charged': 1423, 'tolls': 1424, 'exceptions': 1425, 'nineteenth': 1426, 'foundations': 1427, 'steamboat': 1428, 'laid': 1429, 'projected': 1430, 'anthracite': 1431, 'forges': 1432, 'order': 1433, 'exception': 1434, 'mileage': 1435, 'traverse': 1436, 'refinery': 1437, 'tanks': 1438, 'elizabethport': 1439, 'obsolete': 1440, 'traffic': 1441, 'probable': 1442, 'widened': 1443, 'deepened': 1444, 'become': 1445, 'barge': 1446, 'ship': 1447, 'bridges': 1448, 'enters': 1449, 'tunnel': 1450, 'vehicles': 1451, 'spending': 1452, 'funds': 1453, 'charge': 1454, 'highway': 1455, 'commission': 1456, 'issuance': 1457, 'licenses': 1458, 'tax': 1459, 'recuperation': 1460, 'round': 1461, 'attractions': 1462, 'woods': 1463, 'authority': 1464, 'playgrounds': 1465, 'healthful': 1466, 'provisions': 1467, 'walk': 1468, 'stringent': 1469, 'measures': 1470, 'sanitation': 1471, 'disease': 1472, 'injury': 1473, 'housing': 1474, 'safety': 1475, 'minors': 1476, 'permissible': 1477, 'segregation': 1478, 'treatment': 1479, 'tuberculous': 1480, 'payment': 1481, 'damages': 1482, 'injured': 1483, 'pensions': 1484, 'widows': 1485, 'menace': 1486, 'comfort': 1487, 'breeding': 1488, 'mosquitoes': 1489, 'spend': 1490, 'destroying': 1491, 'pests': 1492, 'divides': 1493, 'departments': 1494, 'senator': 1495, 'sixty': 1496, 'assemblymen': 1497, 'apportioned': 1498, 'person': 1499, 'successive': 1500, 'terms': 1501, 'errors': 1502, 'appeals': 1503, 'chancery': 1504, 'supreme': 1505, 'circuit': 1506, 'pleas': 1507, 'judges': 1508, 'appointed': 1509, 'approval': 1510, 'secretary': 1511, 'treasurer': 1512, 'comptroller': 1513, 'attorneygeneral': 1514, 'twentyone': 1515, 'townships': 1516, 'administered': 1517, 'accordance': 1518, 'judge': 1519, 'sheriff': 1520, 'clerk': 1521, 'surrogate': 1522, 'coroner': 1523, 'collector': 1524, 'freeholders': 1525, 'vote': 1526, 'courthouses': 1527, 'penitentiaries': 1528, 'aged': 1529, 'poor': 1530, 'parental': 1531, 'detention': 1532, 'delinquents': 1533, 'witnesses': 1534, 'represented': 1535, 'congress': 1536, 'senators': 1537, 'requires': 1538, 'shall': 1539, 'support': 1540, 'thorough': 1541, 'efficient': 1542, 'free': 1543, 'children': 1544, 'requirement': 1545, 'enforce': 1546, 'commissioner': 1547, 'assistant': 1548, 'commissioners': 1549, 'supervising': 1550, 'nassua': 1551, 'pupils': 1552, 'attended': 1553, 'compulsory': 1554, 'attendance': 1555, 'age': 1556, 'could': 1557, 'read': 1558, 'write': 1559, 'foreign': 1560, 'birth': 1561, 'native': 1562, 'parentage': 1563, 'appropriations': 1564, 'farnum': 1565, 'deaf': 1566, 'manual': 1567, 'youths': 1568, 'learning': 1569, 'peter': 1570, 'convent': 1571, 'mary': 1572, 'seton': 1573, 'upsala': 1574, 'kenilworth': 1575, 'giving': 1576, 'tenth': 1577, 'sixtyfive': 1578, 'thickly': 1579, 'scattered': 1580, 'urban': 1581, 'residing': 1582, 'leaves': 1583, 'rural': 1584, 'stock': 1585, 'enterprises': 1586, 'pursuits': 1587, 'opportunities': 1588, 'comfortable': 1589, 'conveniences': 1590, 'unsurpassed': 1591, 'traveling': 1592, 'back': 1593, 'forth': 1594, 'attract': 1595, 'thirds': 1596, 'bureau': 1597, 'defines': 1598, 'central': 1599, 'lie': 1600, 'within': 1601, 'streets': 1602, 'placed': 1603, 'groups': 1604, 'outside': 1605, 'fifteenth': 1606, 'dredged': 1607, 'channel': 1608, 'improvement': 1609, 'improvements': 1610, 'expense': 1611, 'nine': 1612, 'trains': 1613, 'office': 1614, 'stores': 1615, 'variety': 1616, 'eleventh': 1617, 'progress': 1618, 'start': 1619, 'stimulus': 1620, 'jewelry': 1621, 'tinware': 1622, 'advertising': 1623, 'celluloid': 1624, 'furs': 1625, 'brewery': 1626, 'storagebattery': 1627, 'drawn': 1628, 'twentysix': 1629, 'reflect': 1630, 'social': 1631, 'influences': 1632, 'eligible': 1633, 'sites': 1634, 'exceptionally': 1635, 'providing': 1636, 'naturally': 1637, 'discouraged': 1638, 'nearest': 1639, 'respect': 1640, 'slope': 1641, 'commanding': 1642, 'view': 1643, 'multitude': 1644, 'similarly': 1645, 'dwellings': 1646, 'labels': 1647, 'cream': 1648, 'separators': 1649, 'attractiveness': 1650, 'dwelling': 1651, 'cost': 1652, 'invite': 1653, 'motors': 1654, 'generators': 1655, 'phonographs': 1656, 'phonograph': 1657, 'records': 1658, 'moving': 1659, 'picture': 1660, 'films': 1661, 'batteries': 1662, 'developing': 1663, 'rather': 1664, 'cutlery': 1665, 'platinum': 1666, 'arlington': 1667, 'officially': 1668, 'seat': 1669, 'nearer': 1670, 'ties': 1671, 'national': 1672, 'rollers': 1673, 'incandescent': 1674, 'pumps': 1675, 'roller': 1676, 'bearings': 1677, 'elevators': 1678, 'tin': 1679, 'toys': 1680, 'linoleums': 1681, 'twine': 1682, 'glue': 1683, 'oils': 1684, 'seen': 1685, 'narrow': 1686, 'twentyfirst': 1687, 'occupied': 1688, 'church': 1689, 'westward': 1690, 'seaports': 1691, 'thirteen': 1692, 'sail': 1693, 'nineteen': 1694, 'trust': 1695, 'passengers': 1696, 'minutes': 1697, 'printers': 1698, 'type': 1699, 'soaps': 1700, 'perfumes': 1701, 'hose': 1702, 'watches': 1703, 'heating': 1704, 'lighting': 1705, 'apparatus': 1706, 'rope': 1707, 'eight': 1708, 'library': 1709, 'live': 1710, 'steamships': 1711, 'transatlantic': 1712, 'scandinavian': 1713, 'dock': 1714, 'repairing': 1715, 'surveying': 1716, 'nautical': 1717, 'engines': 1718, 'furniture': 1719, 'guttenberg': 1720, 'communities': 1721, 'leads': 1722, 'lard': 1723, 'exceptional': 1724, 'ohio': 1725, 'refineries': 1726, 'bronze': 1727, 'cottonseed': 1728, 'nickel': 1729, 'borax': 1730, 'englewood': 1731, 'fort': 1732, 'lee': 1733, 'edgewater': 1734, 'foot': 1735, 'sirups': 1736, 'founding': 1737, 'suggested': 1738, 'alexander': 1739, 'hamilton': 1740, 'foresaw': 1741, 'locomotive': 1742, 'cordage': 1743, 'handkerchiefs': 1744, 'cotton': 1745, 'belting': 1746, 'packing': 1747, 'print': 1748, 'docks': 1749, 'embarkation': 1750, 'debarkation': 1751, 'clifton': 1752, 'lodi': 1753, 'garfield': 1754, 'waxed': 1755, 'carpets': 1756, 'rugs': 1757, 'rutherford': 1758, 'hasbrouck': 1759, 'heights': 1760, 'ridgewood': 1761, 'westwood': 1762, 'inviting': 1763, 'residents': 1764, 'philip': 1765, 'favorably': 1766, 'tanning': 1767, 'rahway': 1768, 'flourishing': 1769, 'cereals': 1770, 'music': 1771, 'boxes': 1772, 'book': 1773, 'binding': 1774, 'cranford': 1775, 'westfield': 1776, 'garwood': 1777, 'alternated': 1778, 'meeting': 1779, 'fifteen': 1780, 'vaseline': 1781, 'boat': 1782, 'metuchen': 1783, 'output': 1784, 'beyond': 1785, 'yet': 1786, 'possesses': 1787, 'peculiar': 1788, 'roses': 1789, 'dover': 1790, 'locations': 1791, 'presses': 1792, 'garments': 1793, 'laces': 1794, 'junction': 1795, 'finderne': 1796, 'asbestos': 1797, 'dressings': 1798, 'automobiles': 1799, 'boys': 1800, 'jamesburg': 1801, 'freehold': 1802, 'rugmaking': 1803, 'occurred': 1804, 'commemorated': 1805, 'imposing': 1806, 'head': 1807, 'navigation': 1808, 'rely': 1809, 'basis': 1810, 'fortyeight': 1811, 'potteries': 1812, 'rivaled': 1813, 'better': 1814, 'grades': 1815, 'require': 1816, 'england': 1817, 'france': 1818, 'sanitary': 1819, 'oilcloth': 1820, 'grounds': 1821, 'around': 1822, 'memorable': 1823, 'scene': 1824, 'historic': 1825, 'lambertville': 1826, 'quarries': 1827, 'pennington': 1828, 'hopewell': 1829, 'industrious': 1830, 'lehigh': 1831, 'meet': 1832, 'strongly': 1833, 'air': 1834, 'compressors': 1835, 'drills': 1836, 'horseshoes': 1837, 'canisters': 1838, 'organs': 1839, 'saws': 1840, 'newton': 1841, 'flemington': 1842, 'though': 1843, 'peachgrowing': 1844, 'zincmining': 1845, 'usually': 1846, 'considered': 1847, 'belonging': 1848, 'vitally': 1849, 'stimulating': 1850, 'colonial': 1851, 'cooper': 1852, 'shares': 1853, 'owes': 1854, 'crosses': 1855, 'completed': 1856, 'astonishing': 1857, 'rapidity': 1858, 'talking': 1859, 'battleships': 1860, 'merchant': 1861, 'candies': 1862, 'licorice': 1863, 'writing': 1864, 'pens': 1865, 'filling': 1866, 'capping': 1867, 'cans': 1868, 'riverside': 1869, 'hardware': 1870, 'old': 1871, 'tapestry': 1872, 'merchantville': 1873, 'moorestown': 1874, 'collingswood': 1875, 'haddonfield': 1876, 'gas': 1877, 'mantles': 1878, 'transport': 1879, 'fruit': 1880, 'woodbury': 1881, 'clayton': 1882, 'quakers': 1883, 'mining': 1884, 'product': 1885, 'tree': 1886, 'preserved': 1887, 'produces': 1888, 'bottled': 1889, 'diversified': 1890, 'house': 1891, 'convenient': 1892, 'access': 1893, 'visit': 1894, 'entirely': 1895, 'entertainment': 1896, 'said': 1897, 'thousand': 1898, 'hotels': 1899, 'numbers': 1900, 'somewhat': 1901, 'estimated': 1902, 'convalescing': 1903, 'illness': 1904, 'seek': 1905, 'recuperate': 1906, 'entire': 1907, 'mark': 1908, 'standing': 1909, 'pleasant': 1910, 'girt': 1911, 'belmar': 1912, 'grove': 1913, 'bright': 1914, 'bank': 1915, 'navesink': 1916, 'classed': 1917, 'lakewood': 1918, 'winter': 1919} \n",
      "\n"
     ]
    }
   ],
   "source": [
    "print(\"Word index: \",t.word_index,\"\\n\")"
   ]
  },
  {
   "cell_type": "code",
   "execution_count": 10,
   "metadata": {},
   "outputs": [
    {
     "name": "stdout",
     "output_type": "stream",
     "text": [
      "Word docs:  defaultdict(<class 'int'>, {'early': 7, 'history': 3, 'original': 1, 'inhabitants': 1, 'new': 105, 'jersey': 70, 'h': 1, 'indians': 2, 'delaware': 50, 'tribe': 1, 'belonged': 1, 'algonquin': 1, 'family': 1, 'white': 3, 'settlers': 2, 'different': 4, 'nationalities': 1, 'dutch': 9, 'swedes': 2, 'english': 2, 'french': 1, 'geographical': 2, 'names': 2, 'state': 147, 'interesting': 1, 'reminders': 1, 'various': 2, 'occupants': 1, 'first': 14, 'exploration': 1, 'made': 12, 'henry': 1, 'hudson': 22, 'employ': 1, 'east': 14, 'india': 2, 'company': 1, 'sailed': 2, 'week': 1, 'waters': 8, 'bay': 36, 'river': 58, 'called': 5, 'south': 18, 'search': 1, 'northwest': 6, 'passage': 1, 'failing': 1, 'find': 1, 'north': 17, 'entered': 1, 'york': 50, 'still': 8, 'founded': 3, 'amsterdam': 2, 'afterwards': 2, 'time': 8, 'established': 4, 'trading': 1, 'post': 1, 'county': 30, 'later': 1, 'attempted': 1, 'settlements': 4, 'southwestern': 5, 'part': 40, 'expelled': 1, 'places': 11, 'proved': 1, 'temporary': 1, 'permanent': 4, 'settlement': 1, 'bergen': 6, 'city': 81, 'granted': 3, 'town': 14, 'form': 2, 'government': 8, 'separate': 1, 'took': 1, 'possession': 1, 'netherland': 1, 'colony': 2, 'including': 9, 'king': 1, 'charles': 1, 'ii': 2, 'brother': 1, 'duke': 1, 'turn': 1, 'lying': 4, 'rivers': 3, 'lord': 1, 'john': 1, 'berkeley': 2, 'sir': 2, 'george': 1, 'carteret': 4, 'latter': 4, 'governor': 6, 'isle': 1, 'grant': 1, 'named': 1, 'honor': 1, 'disagreements': 1, 'led': 3, 'sell': 1, 'interest': 1, 'proprietors': 2, 'among': 14, 'william': 1, 'penn': 1, 'divided': 4, 'west': 17, 'line': 15, 'running': 2, 'little': 7, 'egg': 2, 'harbor': 2, 'northern': 18, 'division': 1, 'often': 2, 'referred': 1, 'jerseys': 1, 'surrendered': 1, 'proprietary': 1, 'rights': 1, 'crown': 1, 'independence': 2, 'whole': 1, 'royal': 1, 'five': 2, 'representatives': 2, 'signed': 1, 'declaration': 1, 'position': 2, 'war': 2, 'path': 2, 'revolution': 2, 'paulus': 1, 'hook': 3, 'springfield': 1, 'morristown': 4, 'monmouth': 4, 'princeton': 7, 'trenton': 24, 'famous': 4, 'revolutionary': 2, 'troops': 2, 'every': 2, 'conflict': 1, 'army': 1, 'general': 8, 'wayne': 1, 'punished': 1, 'wyoming': 1, 'massacre': 1, 'one': 20, 'third': 9, 'soldiers': 1, 'maxwell': 1, 'illustration': 31, 'battle': 4, 'monument': 2, 'physical': 2, 'political': 2, 'half': 3, 'size': 6, 'lies': 3, 'longitude': 1, 'latitude': 3, 'northernmost': 1, 'point': 5, 'marked': 1, 'rock': 14, 'shore': 3, 'port': 2, 'jervis': 1, 'known': 6, 'tristates': 2, 'cape': 5, 'may': 14, 'length': 2, 'miles': 24, 'narrowest': 1, 'raritan': 15, 'wide': 5, 'widest': 2, 'measured': 1, 'extending': 6, 'great': 24, 'inlet': 1, 'smallest': 3, 'middle': 4, 'atlantic': 18, 'states': 25, 'area': 10, 'square': 13, 'land': 15, 'surface': 9, 'water': 36, 'fortyfifth': 2, 'relief': 2, 'way': 2, 'described': 1, 'mountainous': 2, 'undulating': 2, 'low': 2, 'sandy': 4, 'southern': 11, 'four': 4, 'provinces': 3, 'zones': 3, 'namely': 1, 'appalachian': 8, 'zone': 12, 'highlands': 13, 'piedmont': 8, 'plateau': 8, 'coastal': 6, 'plain': 7, 'extend': 1, 'southwest': 7, 'northeast': 9, 'man': 1, 'stands': 2, 'intersection': 1, 'pennsylvania': 11, 'boundaries': 2, 'topographic': 1, 'consists': 4, 'kittatinny': 8, 'mountain': 10, 'valley': 11, 'extends': 12, 'across': 3, 'northwestern': 4, 'vicinity': 4, 'gap': 3, 'width': 2, 'belt': 3, 'varies': 5, 'twelve': 4, 'fourteen': 2, 'along': 22, 'thirty': 2, 'corner': 5, 'blue': 1, 'height': 2, 'range': 2, 'feet': 14, 'highest': 4, 'high': 5, 'elevation': 6, 'southeast': 6, 'side': 1, 'runs': 1, 'parallel': 2, 'map': 1, 'rugged': 2, 'extensive': 20, 'forests': 7, 'many': 54, 'lakes': 6, 'noted': 7, 'beautiful': 5, 'scenery': 2, 'attracts': 1, 'summer': 8, 'visitors': 3, 'particularly': 6, 'account': 4, 'break': 1, 'flows': 5, 'rough': 1, 'section': 16, 'adapted': 2, 'agriculture': 6, 'although': 4, 'bottom': 1, 'lands': 4, 'bordering': 1, 'streams': 14, 'farms': 6, 'devoted': 6, 'raising': 8, 'crops': 6, 'grazing': 2, 'second': 7, 'immediately': 1, 'southeastern': 3, 'boundary': 2, 'passes': 2, 'near': 16, 'boonton': 2, 'ten': 3, 'twenty': 2, 'generally': 2, 'hamburg': 1, 'wawayanda': 1, 'reach': 1, 'altitude': 2, 'well': 5, 'belong': 1, 'region': 5, 'term': 2, 'applied': 1, 'consisting': 2, 'contain': 2, 'irregular': 4, 'masses': 1, 'interspersed': 1, 'fertile': 4, 'valleys': 4, 'much': 11, 'forest': 10, 'contains': 9, 'besides': 11, 'glacial': 9, 'origin': 1, 'consequently': 1, 'natural': 3, 'beauty': 2, 'popular': 6, 'resort': 7, 'desire': 2, 'outdoor': 1, 'recreation': 3, 'farm': 5, 'suitable': 2, 'parts': 30, 'specially': 5, 'peaches': 3, 'fruits': 6, 'valuable': 6, 'mineral': 1, 'deposits': 9, 'gravel': 7, 'cement': 5, 'zinc': 3, 'iron': 18, 'next': 2, 'woodbridge': 4, 'middlesex': 5, 'represents': 1, 'fall': 4, 'sec': 4, 'comprises': 1, 'fifth': 4, 'sea': 9, 'level': 3, 'characterized': 2, 'presence': 4, 'red': 3, 'sandstone': 3, 'shale': 2, 'eastern': 4, 'rolling': 2, 'western': 7, 'higher': 4, 'plateaus': 1, 'also': 19, 'ridges': 4, 'watchung': 5, 'mountains': 13, 'palisades': 6, 'hunterdon': 3, 'composed': 6, 'trap': 5, 'molten': 1, 'condition': 2, 'forced': 3, 'overlying': 1, 'strata': 2, 'sides': 2, 'steep': 2, 'slopes': 2, 'underlying': 3, 'worn': 1, 'away': 2, 'harder': 1, 'resisted': 1, 'erosion': 1, 'falls': 9, 'passaic': 23, 'paterson': 15, 'located': 26, 'seventy': 1, 'formed': 3, 'passing': 1, 'hard': 2, 'wearing': 1, 'softer': 1, 'nearness': 6, 'commercial': 10, 'centers': 9, 'country': 12, 'excellent': 10, 'facilities': 22, 'transportation': 17, 'larger': 5, 'cities': 42, 'barnegat': 2, 'lighthouse': 1, 'fourth': 5, 'includes': 3, 'remainder': 1, 'interior': 6, 'elevations': 2, 'mount': 4, 'holly': 3, 'outward': 1, 'towards': 1, 'margins': 1, 'greatest': 3, 'found': 17, 'three': 6, 'fourths': 1, 'portion': 1, 'less': 7, 'bordered': 1, 'coast': 12, 'salt': 4, 'marshes': 5, 'tidal': 5, 'meadows': 2, 'whose': 12, 'rarely': 1, 'total': 6, 'hackensack': 8, 'almost': 1, 'separated': 1, 'ocean': 15, 'beaches': 5, 'sand': 12, 'constructed': 3, 'shallow': 3, 'action': 1, 'waves': 1, 'wind': 2, 'absent': 1, 'manasquan': 2, 'beach': 1, 'mainland': 2, 'becoming': 3, 'deposit': 1, 'sediment': 1, 'washed': 2, 'long': 14, 'good': 4, 'harbors': 1, 'barrier': 1, 'shallowness': 1, 'covered': 7, 'ice': 5, 'period': 4, 'therefore': 7, 'moraines': 1, 'material': 3, 'carried': 5, 'glacier': 4, 'consist': 1, 'clay': 13, 'bowlders': 2, 'take': 1, 'hills': 3, 'others': 1, 'spread': 1, 'sheets': 1, 'partly': 1, 'filled': 3, 'occupy': 1, 'basins': 5, 'scooped': 1, 'outlets': 2, 'blocked': 1, 'terminal': 5, 'moraine': 3, 'marks': 1, 'limit': 1, 'belvidere': 2, 'perth': 8, 'amboy': 11, 'passed': 3, 'rocks': 2, 'polished': 1, 'surfaces': 1, 'left': 1, 'scratches': 1, 'indicate': 1, 'southward': 2, 'movement': 1, 'beneath': 1, 'continental': 1, 'shelf': 1, 'ancient': 1, 'climate': 4, 'milder': 1, 'subject': 3, 'extreme': 3, 'fluctuation': 1, 'average': 2, 'annual': 3, 'temperature': 3, 'lower': 4, 'end': 3, 'due': 7, 'distance': 2, 'greater': 3, 'prevailing': 1, 'winds': 2, 'track': 1, 'storms': 1, 'cross': 2, 'continent': 1, 'blowing': 1, 'toward': 3, 'storm': 1, 'bring': 5, 'moisture': 1, 'insure': 1, 'ample': 4, 'rainfall': 3, 'local': 4, 'showers': 1, 'thunderstorms': 1, 'move': 1, 'frequent': 1, 'spring': 3, 'months': 1, 'benefit': 1, 'breezes': 1, 'felt': 3, 'sufficient': 2, 'kinds': 14, 'grown': 9, 'northeastern': 4, 'precipitation': 1, 'fifty': 3, 'inches': 2, 'least': 3, 'fortyone': 1, 'highland': 2, 'light': 2, 'drainage': 7, 'divide': 1, 'flow': 6, 'newark': 30, 'drained': 4, 'tributaries': 2, 'drain': 1, 'basin': 8, 'small': 3, 'several': 6, 'considerable': 3, 'wallkill': 2, 'rises': 2, 'saddle': 1, 'pompton': 1, 'ramapo': 1, 'wanaque': 1, 'greenwood': 1, 'lake': 6, 'pequannock': 3, 'rockaway': 3, 'follows': 1, 'tortuous': 1, 'course': 3, 'bays': 4, 'border': 1, 'affected': 2, 'largest': 11, 'navigable': 2, 'courses': 2, 'case': 1, 'tide': 1, 'important': 35, 'hoboken': 12, 'bayonne': 3, 'elizabeth': 7, 'brunswick': 6, 'branch': 2, 'asbury': 2, 'park': 6, 'camden': 14, 'broad': 2, 'flat': 1, 'stream': 2, 'crossed': 1, 'summit': 4, 'millburn': 1, 'flowed': 3, 'sheet': 2, 'receded': 2, 'drift': 3, 'large': 30, 'geologists': 1, 'call': 1, 'liberty': 1, 'farther': 6, 'gaps': 2, 'exposed': 1, 'older': 1, 'escaped': 1, 'present': 1, 'disappeared': 3, 'changes': 1, 'explain': 1, 'swampy': 1, 'power': 10, 'generated': 2, 'rapid': 6, 'descent': 1, 'utilized': 1, 'manufacturing': 26, 'purposes': 14, 'mills': 6, 'location': 5, 'center': 12, 'developed': 4, 'secured': 1, 'rapids': 1, 'used': 12, 'provide': 5, 'electric': 3, 'closely': 3, 'connected': 11, 'systems': 3, 'dependent': 2, 'largely': 8, 'upon': 2, 'methods': 2, 'supplying': 1, 'people': 11, 'towns': 32, 'domestic': 1, 'formerly': 4, 'obtained': 6, 'nearby': 1, 'springs': 1, 'wells': 2, 'population': 34, 'increased': 9, 'sources': 4, 'supply': 7, 'became': 1, 'contaminated': 1, 'dangerous': 1, 'health': 7, 'danger': 1, 'quantity': 2, 'required': 1, 'interests': 3, 'make': 4, 'provision': 1, 'securing': 1, 'remote': 1, 'pollution': 4, 'watersupply': 1, 'include': 6, 'pumping': 1, 'stations': 4, 'reservoirs': 1, 'storage': 3, 'pipe': 5, 'lines': 11, 'taken': 1, 'municipal': 3, 'thinly': 1, 'populated': 4, 'profitable': 4, 'useful': 1, 'furnishing': 1, 'draw': 1, 'upper': 3, 'drew': 2, 'far': 2, 'former': 2, 'gradually': 2, 'polluted': 1, 'sewage': 2, 'waste': 1, 'factories': 11, 'discharged': 2, 'abandoned': 3, 'source': 1, 'distances': 1, 'using': 1, 'cases': 2, 'artesian': 1, 'sewers': 2, 'drains': 1, 'destroys': 1, 'fish': 1, 'freshwater': 2, 'damage': 1, 'even': 1, 'oyster': 1, 'clam': 1, 'fisheries': 6, 'alive': 1, 'necessity': 2, 'protecting': 1, 'contamination': 1, 'enacted': 1, 'legislation': 2, 'designed': 1, 'maintain': 2, 'purity': 1, 'preventing': 2, 'objectionable': 1, 'matter': 1, 'provided': 4, 'construction': 6, 'trunkline': 1, 'sewer': 1, 'cooperation': 3, 'laws': 4, 'prevent': 2, 'plants': 4, 'animals': 5, 'settled': 8, 'vast': 2, 'primeval': 1, 'pine': 2, 'oak': 2, 'maple': 1, 'chestnut': 1, 'hickory': 1, 'ash': 1, 'walnut': 1, 'tulip': 1, 'poplar': 1, 'cedar': 1, 'years': 8, 'lumbering': 1, 'industry': 24, 'ceased': 1, 'ago': 1, 'best': 1, 'timber': 1, 'cut': 1, 'difficult': 1, 'impossible': 2, 'promise': 1, 'value': 11, 'future': 1, 'pines': 3, 'stunted': 1, 'mingled': 1, 'scrub': 1, 'isolated': 1, 'forested': 2, 'areas': 4, 'varied': 6, 'extent': 3, 'forty': 1, 'per': 12, 'cent': 7, 'growth': 10, 'recent': 2, 'organized': 1, 'efforts': 1, 'protect': 1, 'trees': 3, 'fires': 3, 'destructive': 2, 'agencies': 1, 'reforestation': 1, 'however': 4, 'realized': 1, 'importance': 7, 'promoting': 1, 'available': 1, 'farming': 5, 'recognized': 1, 'floods': 1, 'secs': 1, 'additional': 1, 'reason': 1, 'protection': 6, 'preserving': 1, 'soils': 4, 'obtain': 1, 'times': 1, 'constant': 2, 'use': 3, 'shade': 2, 'breaks': 1, 'justify': 1, 'care': 3, 'reasons': 1, 'adopted': 3, 'provides': 1, 'owns': 1, 'maintains': 5, 'six': 2, 'reserves': 1, 'containing': 2, 'nearly': 3, 'acres': 3, 'culture': 1, 'authorized': 2, 'counties': 17, 'create': 1, 'parks': 3, 'diffusion': 1, 'information': 1, 'regarding': 2, 'lookout': 1, 'detected': 1, 'force': 1, 'firewardens': 1, 'extinguish': 1, 'arrest': 1, 'cause': 1, 'acting': 2, 'together': 2, 'created': 2, 'interstate': 1, 'embraces': 2, 'thousands': 5, 'shipping': 4, 'tomatoes': 2, 'swedesboro': 2, 'wild': 2, 'practically': 3, 'deer': 1, 'frequently': 1, 'afforded': 1, 'animal': 2, 'smaller': 1, 'rabbit': 1, 'squirrel': 1, 'ducks': 1, 'quail': 1, 'numerous': 3, 'abound': 1, 'bass': 1, 'trout': 1, 'pickerel': 1, 'perch': 1, 'shad': 2, 'catch': 1, 'sturgeon': 1, 'constantly': 1, 'restocked': 1, 'means': 3, 'hatcheries': 1, 'hackettstown': 4, 'owing': 1, 'chiefly': 1, 'fishing': 2, 'sheltered': 1, 'inlets': 1, 'markets': 4, 'successful': 3, 'bluefish': 1, 'weakfish': 1, 'food': 1, 'menhaden': 1, 'oil': 6, 'fertilizer': 2, 'caught': 1, 'quantities': 8, 'coves': 1, 'immense': 1, 'oysters': 1, 'clams': 1, 'gathered': 1, 'keyport': 2, 'tuckerton': 1, 'absecon': 1, 'maurice': 1, 'cove': 1, 'bivalve': 1, 'denuded': 1, 'soil': 10, 'mixed': 2, 'easy': 1, 'cultivate': 1, 'stones': 1, 'disintegrated': 1, 'consisted': 1, 'gneiss': 1, 'sandstones': 1, 'shales': 1, 'marl': 8, 'deposited': 1, 'shells': 1, 'lived': 1, 'abundance': 6, 'strip': 1, 'past': 1, 'salem': 2, 'narrower': 1, 'rich': 7, 'extensively': 2, 'enrich': 1, 'poorer': 1, 'displaced': 1, 'richer': 1, 'fertilizers': 4, 'socalled': 1, 'barrens': 1, 'cover': 1, 'comparatively': 1, 'unproductive': 1, 'proper': 1, 'cultivation': 4, 'application': 1, 'productive': 3, 'gathering': 1, 'production': 5, 'grain': 1, 'compete': 1, 'plains': 1, 'wheat': 1, 'produced': 3, 'mainly': 1, 'consumption': 1, 'corn': 2, 'rye': 1, 'buckwheat': 1, 'raised': 3, 'limited': 1, 'pasture': 2, 'hay': 2, 'circumstances': 1, 'extremely': 1, 'favorable': 3, 'special': 8, 'agricultural': 8, 'industries': 37, 'products': 46, 'vegetables': 7, 'flowers': 1, 'poultry': 4, 'eggs': 2, 'milk': 5, 'butter': 1, 'mild': 1, 'winters': 1, 'generous': 1, 'fertility': 1, 'resorts': 5, 'philadelphia': 15, 'demand': 3, 'makes': 5, 'market': 3, 'gardening': 2, 'intensity': 1, 'sections': 5, 'potato': 1, 'crop': 1, 'sweet': 1, 'potatoes': 1, 'prominent': 1, 'beans': 1, 'peas': 1, 'canning': 8, 'cabbages': 1, 'celery': 1, 'onions': 1, 'fresh': 1, 'encouraged': 2, 'gardeners': 1, 'devote': 1, 'attention': 3, 'growing': 11, 'glass': 9, 'warren': 4, 'morris': 9, 'stony': 1, 'apples': 1, 'pears': 1, 'abundant': 2, 'strawberries': 1, 'blackberries': 1, 'raspberries': 1, 'grapes': 1, 'establishments': 5, 'bottling': 1, 'unfermented': 1, 'grape': 2, 'juice': 2, 'huckleberries': 1, 'common': 2, 'wooded': 1, 'cranberry': 1, 'bogs': 1, 'burlington': 4, 'buildings': 3, 'experimental': 1, 'station': 5, 'dairy': 4, 'easily': 1, 'prompt': 1, 'hand': 1, 'farmer': 1, 'devoting': 1, 'feeding': 1, 'cattle': 1, 'handling': 1, 'produce': 3, 'superior': 5, 'quality': 3, 'especially': 2, 'cumberland': 1, 'increase': 4, 'clear': 2, 'possible': 1, 'desirable': 1, 'school': 10, 'rutgers': 4, 'college': 12, 'experiment': 2, 'practical': 1, 'instruction': 3, 'improve': 1, 'silage': 1, 'front': 1, 'minerals': 1, 'ore': 2, 'mines': 4, 'smelted': 1, 'shrewsbury': 1, 'seventeenth': 1, 'century': 3, 'colonel': 1, 'lewis': 1, 'quarter': 1, 'last': 3, 'richness': 1, 'ores': 1, 'since': 2, 'operate': 1, 'furnaces': 2, 'profitably': 2, 'declined': 1, 'worked': 1, 'two': 7, 'sussex': 4, 'neighborhood': 2, 'franklin': 2, 'furnace': 2, 'ranks': 2, 'union': 6, 'portland': 1, 'phillipsburg': 6, 'granite': 2, 'quarrying': 2, 'rapidly': 7, 'widely': 1, 'building': 5, 'slate': 3, 'quarried': 1, 'talc': 1, 'soapstone': 1, 'ground': 1, 'powder': 1, 'making': 9, 'certain': 2, 'paper': 5, 'limestone': 1, 'adjacent': 2, 'easton': 1, 'road': 2, 'railroad': 16, 'beds': 4, 'hardness': 1, 'macadam': 1, 'roads': 8, 'necessary': 1, 'operations': 1, 'already': 1, 'mentioned': 3, 'fine': 4, 'caused': 1, 'establishment': 3, 'molding': 2, 'mercer': 1, 'pottery': 6, 'brick': 3, 'terra': 3, 'cotta': 3, 'tile': 2, 'enormous': 2, 'clays': 4, 'finer': 2, 'brought': 3, 'countries': 1, 'shipped': 1, 'works': 10, 'remarkable': 1, 'degree': 1, 'combination': 1, 'conditions': 2, 'causes': 1, 'needs': 1, 'demands': 2, 'neighbors': 1, 'establish': 1, 'thus': 3, 'advantage': 2, 'resources': 1, 'profited': 1, 'greatly': 2, 'coal': 3, 'fields': 2, 'manufactured': 8, 'number': 8, 'intelligent': 1, 'skillful': 1, 'workers': 2, 'unusually': 2, 'raw': 1, 'materials': 1, 'finished': 1, 'fringe': 1, 'transcontinental': 1, 'branches': 1, 'facilitate': 1, 'shipments': 1, 'world': 8, 'manufactures': 14, 'refined': 2, 'copper': 4, 'silk': 14, 'goods': 22, 'foundry': 1, 'machine': 7, 'shop': 2, 'petroleum': 2, 'packed': 1, 'meats': 2, 'woolen': 7, 'wire': 4, 'leather': 6, 'electrical': 9, 'machinery': 7, 'tobacco': 2, 'chemicals': 5, 'ships': 3, 'see': 1, 'table': 1, 'warping': 1, 'weaving': 1, 'sixth': 3, 'engaged': 4, 'massachusetts': 2, 'rhode': 2, 'island': 2, 'connecticut': 2, 'hampshire': 1, 'show': 1, 'proportion': 1, 'ninth': 1, 'manufacture': 25, 'smelting': 2, 'refining': 4, 'cloth': 1, 'linoleum': 3, 'sewing': 3, 'machines': 3, 'rubber': 7, 'paint': 1, 'varnish': 1, 'supplies': 3, 'soap': 1, 'gold': 3, 'silver': 3, 'articles': 2, 'travel': 4, 'days': 2, 'communication': 9, 'indian': 1, 'trails': 1, 'expanded': 1, 'sailing': 1, 'vessels': 3, 'effort': 1, 'keeping': 1, 'public': 7, 'difficulties': 1, 'turnpikes': 1, 'built': 3, 'private': 1, 'companies': 2, 'charged': 1, 'tolls': 1, 'exceptions': 1, 'nineteenth': 1, 'foundations': 1, 'steamboat': 1, 'canals': 2, 'railroads': 12, 'laid': 1, 'canal': 11, 'projected': 1, 'anthracite': 1, 'forges': 1, 'connect': 4, 'route': 2, 'bordentown': 3, 'order': 1, 'development': 2, 'direct': 3, 'trunk': 4, 'exception': 1, 'pass': 3, 'terminals': 2, 'weehawken': 2, 'mileage': 1, 'compared': 2, 'railway': 2, 'traverse': 1, 'points': 2, 'refinery': 1, 'tanks': 1, 'elizabethport': 1, 'advantages': 5, 'obsolete': 1, 'traffic': 1, 'probable': 1, 'widened': 1, 'deepened': 1, 'become': 1, 'barge': 1, 'ship': 1, 'ferries': 6, 'bridges': 1, 'bridge': 4, 'proposed': 2, 'enters': 1, 'tunnels': 7, 'tunnel': 1, 'vehicles': 1, 'municipalities': 2, 'spending': 1, 'sums': 2, 'money': 2, 'maintenance': 2, 'funds': 1, 'charge': 1, 'highway': 1, 'commission': 1, 'issuance': 1, 'automobile': 3, 'licenses': 1, 'tax': 1, 'recuperation': 1, 'attractive': 9, 'pleasure': 2, 'year': 4, 'round': 1, 'attractions': 1, 'kind': 2, 'woods': 1, 'authority': 1, 'given': 3, 'law': 2, 'playgrounds': 1, 'progressive': 2, 'plans': 2, 'healthful': 1, 'provisions': 1, 'board': 4, 'walk': 1, 'stringent': 1, 'measures': 1, 'sanitation': 1, 'disease': 1, 'injury': 1, 'housing': 1, 'safety': 1, 'minors': 1, 'permissible': 1, 'occupations': 4, 'segregation': 1, 'treatment': 1, 'tuberculous': 1, 'payment': 1, 'damages': 1, 'persons': 4, 'injured': 1, 'pensions': 1, 'widows': 1, 'menace': 1, 'comfort': 1, 'breeding': 1, 'mosquitoes': 1, 'spend': 1, 'purpose': 2, 'destroying': 1, 'pests': 1, 'education': 5, 'constitution': 2, 'divides': 1, 'departments': 1, 'legislative': 2, 'executive': 2, 'judicial': 2, 'department': 4, 'vested': 3, 'legislature': 3, 'senate': 3, 'assembly': 3, 'senator': 1, 'elected': 4, 'voters': 2, 'sixty': 1, 'assemblymen': 1, 'apportioned': 1, 'according': 5, 'person': 1, 'successive': 1, 'terms': 1, 'courts': 3, 'principal': 14, 'court': 6, 'errors': 1, 'appeals': 1, 'chancery': 1, 'supreme': 1, 'circuit': 1, 'pleas': 1, 'judges': 1, 'appointed': 1, 'approval': 1, 'capitol': 2, 'officers': 3, 'secretary': 1, 'treasurer': 1, 'comptroller': 1, 'attorneygeneral': 1, 'twentyone': 1, 'townships': 1, 'boroughs': 3, 'administered': 1, 'accordance': 1, 'judge': 1, 'sheriff': 1, 'clerk': 1, 'surrogate': 1, 'coroner': 1, 'collector': 1, 'members': 2, 'freeholders': 1, 'vote': 1, 'courthouses': 1, 'penitentiaries': 1, 'homes': 8, 'aged': 1, 'poor': 1, 'parental': 1, 'detention': 1, 'juvenile': 2, 'delinquents': 1, 'witnesses': 1, 'represented': 1, 'united': 12, 'congress': 1, 'senators': 1, 'normal': 8, 'montclair': 4, 'requires': 1, 'shall': 1, 'support': 1, 'thorough': 1, 'efficient': 1, 'system': 2, 'free': 1, 'schools': 12, 'children': 1, 'requirement': 1, 'enforce': 1, 'commissioner': 1, 'assistant': 1, 'commissioners': 1, 'superintendent': 2, 'supervising': 1, 'nassua': 1, 'hall': 2, 'university': 3, 'pupils': 1, 'attended': 1, 'teachers': 4, 'compulsory': 1, 'attendance': 1, 'illiterates': 2, 'age': 1, 'could': 1, 'read': 1, 'write': 1, 'foreign': 1, 'birth': 1, 'native': 1, 'parentage': 1, 'training': 3, 'glassboro': 2, 'maintained': 3, 'preparation': 3, 'appropriations': 1, 'farnum': 1, 'beverly': 2, 'associated': 2, 'deaf': 1, 'manual': 1, 'industrial': 25, 'colored': 2, 'youths': 1, 'institutions': 3, 'learning': 1, 'stevens': 2, 'institute': 2, 'technology': 2, 'st': 3, 'peter': 1, 'convent': 1, 'mary': 1, 'plainfield': 3, 'theological': 2, 'seminary': 2, 'madison': 2, 'seton': 1, 'orange': 11, 'upsala': 1, 'kenilworth': 1, 'bloomfield': 5, 'metropolitan': 13, 'district': 14, 'census': 5, 'density': 4, 'mile': 6, 'giving': 1, 'tenth': 1, 'essex': 2, 'sixtyfive': 1, 'thickly': 1, 'scattered': 1, 'urban': 1, 'residing': 1, 'leaves': 1, 'rural': 1, 'stock': 1, 'chief': 7, 'commerce': 2, 'enterprises': 1, 'business': 4, 'pursuits': 1, 'neighboring': 6, 'opportunities': 1, 'comfortable': 1, 'residence': 3, 'conveniences': 1, 'unsurpassed': 1, 'traveling': 1, 'back': 1, 'forth': 1, 'attract': 1, 'employed': 2, 'included': 2, 'gloucester': 2, 'thirds': 1, 'influence': 2, 'activities': 3, 'bureau': 1, 'defines': 1, 'central': 1, 'lie': 1, 'within': 1, 'streets': 1, 'villages': 2, 'placed': 1, 'groups': 1, 'outside': 1, 'following': 2, 'environs': 2, 'fifteenth': 1, 'frontage': 3, 'eleven': 2, 'kill': 5, 'van': 3, 'kull': 3, 'dredged': 1, 'channel': 1, 'hundred': 2, 'deep': 2, 'improvement': 1, 'improvements': 1, 'expense': 1, 'enjoys': 2, 'nine': 1, 'directly': 3, 'passenger': 2, 'trains': 1, 'banks': 2, 'office': 1, 'stores': 1, 'trolley': 4, 'radiate': 2, 'trade': 3, 'variety': 1, 'eleventh': 1, 'progress': 1, 'start': 1, 'stimulus': 1, 'opening': 2, 'shoes': 4, 'hats': 5, 'jewelry': 1, 'steel': 12, 'brass': 3, 'watch': 2, 'paints': 3, 'varnishes': 2, 'clothing': 3, 'appliances': 6, 'tinware': 1, 'advertising': 1, 'novelties': 2, 'celluloid': 1, 'trunks': 2, 'furs': 1, 'brewery': 1, 'cigars': 5, 'storagebattery': 1, 'factory': 2, 'drawn': 1, 'twentysix': 1, 'surrounding': 5, 'reflect': 1, 'social': 1, 'influences': 1, 'belleville': 2, 'nutley': 2, 'glen': 2, 'ridge': 2, 'irvington': 2, 'residential': 16, 'eligible': 1, 'sites': 1, 'exceptionally': 1, 'active': 5, 'providing': 1, 'educational': 4, 'naturally': 1, 'discouraged': 1, 'nearest': 1, 'activity': 2, 'respect': 1, 'slope': 1, 'commanding': 1, 'view': 1, 'populous': 3, 'multitude': 1, 'home': 2, 'similarly': 1, 'situated': 7, 'dwellings': 1, 'lamps': 4, 'worsted': 3, 'labels': 1, 'cream': 1, 'separators': 1, 'residences': 2, 'attractiveness': 1, 'dwelling': 1, 'cost': 1, 'invite': 1, 'motors': 1, 'generators': 1, 'surgical': 2, 'phonographs': 1, 'phonograph': 1, 'records': 1, 'moving': 1, 'picture': 1, 'instruments': 2, 'films': 1, 'batteries': 1, 'developing': 1, 'rather': 1, 'feeling': 2, 'impulse': 3, 'suburb': 2, 'castings': 3, 'graphite': 2, 'tools': 3, 'cutlery': 1, 'platinum': 1, 'harrison': 2, 'kearney': 2, 'arlington': 1, 'officially': 1, 'seat': 1, 'nearer': 1, 'ties': 1, 'prosperous': 6, 'national': 1, 'thread': 2, 'rollers': 1, 'incandescent': 1, 'steam': 2, 'pumps': 1, 'roller': 1, 'bearings': 1, 'elevators': 1, 'tin': 1, 'toys': 1, 'metal': 2, 'linoleums': 1, 'yarns': 4, 'twine': 1, 'glue': 1, 'oils': 1, 'seen': 1, 'narrow': 1, 'peninsula': 3, 'densely': 2, 'group': 3, 'twentyfirst': 1, 'occupied': 1, 'soon': 2, 'church': 1, 'westward': 1, 'unexcelled': 2, 'seaports': 1, 'thirteen': 1, 'freight': 2, 'sail': 1, 'nineteen': 1, 'trust': 1, 'connection': 2, 'passengers': 1, 'heart': 2, 'minutes': 1, 'sugar': 2, 'printers': 1, 'type': 1, 'soaps': 1, 'perfumes': 1, 'silks': 4, 'embroideries': 4, 'lead': 3, 'pencils': 2, 'fire': 2, 'hose': 1, 'soups': 2, 'watches': 1, 'heating': 1, 'lighting': 1, 'apparatus': 1, 'rope': 1, 'eight': 1, 'library': 1, 'live': 1, 'connections': 2, 'steamships': 1, 'transatlantic': 1, 'scandinavian': 1, 'dock': 1, 'shipbuilding': 4, 'repairing': 1, 'surveying': 1, 'nautical': 1, 'marine': 2, 'engines': 1, 'boilers': 4, 'furniture': 1, 'wall': 2, 'wellknown': 3, 'industrially': 2, 'similar': 2, 'guttenberg': 1, 'secaucus': 2, 'thriving': 2, 'communities': 1, 'leads': 1, 'shops': 4, 'pianos': 3, 'lard': 1, 'vegetable': 2, 'gives': 2, 'exceptional': 1, 'deepwater': 2, 'ohio': 1, 'refineries': 1, 'bronze': 1, 'cottonseed': 1, 'nickel': 1, 'borax': 1, 'insulated': 2, 'character': 2, 'englewood': 1, 'fort': 1, 'lee': 1, 'edgewater': 1, 'foot': 1, 'sirups': 1, 'founding': 1, 'suggested': 1, 'alexander': 1, 'hamilton': 1, 'foresaw': 1, 'foundries': 3, 'locomotive': 1, 'dyeing': 3, 'cordage': 1, 'handkerchiefs': 1, 'cotton': 1, 'belting': 1, 'packing': 1, 'print': 1, 'chemical': 2, 'docks': 1, 'embarkation': 1, 'debarkation': 1, 'clifton': 1, 'lodi': 1, 'garfield': 1, 'waxed': 1, 'carpets': 1, 'rugs': 1, 'rutherford': 1, 'hasbrouck': 1, 'heights': 1, 'ridgewood': 1, 'westwood': 1, 'inviting': 1, 'residents': 1, 'oldest': 2, 'philip': 1, 'favorably': 1, 'arthur': 2, 'tanning': 1, 'printing': 3, 'always': 2, 'place': 2, 'rahway': 1, 'flourishing': 1, 'cereals': 1, 'music': 1, 'boxes': 1, 'book': 1, 'binding': 1, 'roselle': 2, 'cranford': 1, 'westfield': 1, 'garwood': 1, 'alternated': 1, 'meeting': 1, 'fifteen': 1, 'mouth': 2, 'earthenware': 2, 'vaseline': 1, 'boat': 1, 'metuchen': 1, 'sayreville': 2, 'output': 1, 'outskirts': 2, 'beyond': 1, 'yet': 1, 'associations': 2, 'distinctively': 2, 'possesses': 1, 'another': 2, 'peculiar': 1, 'roses': 1, 'dover': 1, 'picturesque': 2, 'locations': 1, 'hosiery': 2, 'presses': 1, 'garments': 1, 'somerville': 2, 'laces': 1, 'bound': 2, 'brook': 2, 'junction': 1, 'finderne': 1, 'asbestos': 1, 'ferry': 2, 'dressings': 1, 'automobiles': 1, 'boys': 1, 'jamesburg': 1, 'rail': 2, 'freehold': 1, 'rugmaking': 1, 'capital': 2, 'occurred': 1, 'commemorated': 1, 'imposing': 1, 'head': 1, 'navigation': 1, 'rely': 1, 'basis': 1, 'fortyeight': 1, 'potteries': 1, 'rivaled': 1, 'better': 1, 'grades': 1, 'require': 1, 'england': 1, 'france': 1, 'sanitary': 1, 'oilcloth': 1, 'grounds': 1, 'around': 1, 'memorable': 1, 'scene': 1, 'historic': 1, 'lambertville': 1, 'quarries': 1, 'pennington': 1, 'hopewell': 1, 'industrious': 1, 'opposite': 2, 'lehigh': 1, 'meet': 1, 'terminus': 2, 'strongly': 1, 'air': 1, 'compressors': 1, 'drills': 1, 'horseshoes': 1, 'canisters': 1, 'washington': 2, 'blairstown': 2, 'organs': 1, 'saws': 1, 'newton': 1, 'flemington': 1, 'though': 1, 'peachgrowing': 1, 'zincmining': 1, 'usually': 1, 'considered': 1, 'belonging': 1, 'vitally': 1, 'stimulating': 1, 'colonial': 1, 'cooper': 1, 'shares': 1, 'owes': 1, 'crosses': 1, 'completed': 1, 'astonishing': 1, 'rapidity': 1, 'talking': 1, 'battleships': 1, 'merchant': 1, 'candies': 1, 'licorice': 1, 'writing': 1, 'pens': 1, 'filling': 1, 'capping': 1, 'cans': 1, 'riverside': 1, 'truck': 2, 'hardware': 1, 'old': 1, 'tapestry': 1, 'merchantville': 1, 'moorestown': 1, 'collingswood': 1, 'haddonfield': 1, 'gas': 1, 'mantles': 1, 'transport': 1, 'fruit': 1, 'woodbury': 1, 'bottles': 2, 'clayton': 1, 'quakers': 1, 'bridgeton': 2, 'vineland': 2, 'millville': 2, 'mining': 1, 'product': 1, 'berries': 2, 'tree': 1, 'preserved': 1, 'produces': 1, 'bottled': 1, 'diversified': 1, 'house': 1, 'convenient': 1, 'access': 1, 'visit': 1, 'seaside': 2, 'entirely': 1, 'entertainment': 1, 'said': 1, 'thousand': 1, 'hotels': 1, 'numbers': 1, 'somewhat': 1, 'estimated': 1, 'convalescing': 1, 'illness': 1, 'seek': 1, 'recuperate': 1, 'entire': 1, 'mark': 1, 'standing': 1, 'pleasant': 1, 'girt': 1, 'belmar': 1, 'grove': 1, 'bright': 1, 'bank': 1, 'navesink': 1, 'classed': 1, 'lakewood': 1, 'winter': 1}) \n",
      "\n"
     ]
    }
   ],
   "source": [
    "print(\"Word docs: \",t.word_docs,\"\\n\")"
   ]
  },
  {
   "cell_type": "code",
   "execution_count": 11,
   "metadata": {},
   "outputs": [
    {
     "name": "stdout",
     "output_type": "stream",
     "text": [
      "Document encoded :\n",
      " [[0. 0. 0. ... 0. 0. 0.]\n",
      " [0. 0. 0. ... 0. 0. 0.]\n",
      " [0. 0. 0. ... 0. 0. 0.]\n",
      " [0. 0. 0. ... 0. 0. 0.]\n",
      " [0. 0. 0. ... 0. 0. 0.]]\n"
     ]
    }
   ],
   "source": [
    "# integer encode documents\n",
    "encoded_docs = t.texts_to_matrix(docs, mode='count')\n",
    "print(\"Document encoded :\\n\",encoded_docs)"
   ]
  },
  {
   "cell_type": "markdown",
   "metadata": {},
   "source": [
    "# Sklearn BOW"
   ]
  },
  {
   "cell_type": "code",
   "execution_count": 12,
   "metadata": {},
   "outputs": [
    {
     "name": "stdout",
     "output_type": "stream",
     "text": [
      "Vocabulary:  {'early': 479, 'history': 777, 'original': 1155, 'inhabitants': 832, 'new': 1096, 'jersey': 862, 'indians': 822, 'delaware': 406, 'tribe': 1767, 'belonged': 133, 'algonquin': 36, 'family': 572, 'white': 1876, 'settlers': 1522, 'different': 435, 'nationalities': 1075, 'dutch': 475, 'swedes': 1680, 'english': 519, 'french': 661, 'geographical': 693, 'names': 1069, 'state': 1621, 'interesting': 846, 'reminders': 1403, 'various': 1821, 'occupants': 1124, 'first': 609, 'exploration': 554, 'made': 960, 'henry': 767, 'hudson': 793, 'employ': 509, 'east': 482, 'india': 820, 'company': 305, 'sailed': 1470, 'week': 1866, 'waters': 1855, 'bay': 117, 'river': 1438, 'called': 210, 'south': 1600, 'search': 1493, 'northwest': 1111, 'passage': 1185, 'failing': 569, 'find': 601, 'north': 1106, 'entered': 523, 'york': 1912, 'still': 1631, 'founded': 647, 'amsterdam': 49, 'afterwards': 27, 'time': 1728, 'established': 536, 'trading': 1749, 'post': 1275, 'county': 363, 'later': 901, 'attempted': 86, 'settlements': 1521, 'southwestern': 1606, 'part': 1180, 'expelled': 549, 'places': 1241, 'proved': 1329, 'temporary': 1697, 'permanent': 1217, 'settlement': 1520, 'bergen': 140, 'city': 267, 'granted': 718, 'town': 1743, 'form': 635, 'government': 711, 'separate': 1515, 'took': 1736, 'possession': 1273, 'netherland': 1095, 'colony': 289, 'including': 816, 'king': 881, 'charles': 255, 'ii': 797, 'brother': 197, 'duke': 474, 'turn': 1783, 'lying': 955, 'rivers': 1439, 'lord': 951, 'john': 866, 'berkeley': 141, 'sir': 1567, 'george': 695, 'carteret': 225, 'latter': 903, 'governor': 712, 'isle': 858, 'grant': 717, 'named': 1067, 'honor': 782, 'disagreements': 441, 'led': 912, 'sell': 1510, 'interest': 845, 'proprietors': 1324, 'among': 47, 'william': 1886, 'penn': 1206, 'divided': 454, 'west': 1870, 'line': 935, 'running': 1460, 'little': 939, 'egg': 492, 'harbor': 749, 'northern': 1109, 'division': 456, 'often': 1133, 'referred': 1390, 'jerseys': 863, 'surrendered': 1674, 'proprietary': 1323, 'rights': 1435, 'crown': 383, 'independence': 819, 'whole': 1877, 'royal': 1455, 'five': 613, 'representatives': 1406, 'signed': 1559, 'declaration': 398, 'position': 1271, 'war': 1845, 'path': 1195, 'revolution': 1426, 'paulus': 1196, 'hook': 783, 'springfield': 1613, 'morristown': 1051, 'monmouth': 1043, 'princeton': 1296, 'trenton': 1766, 'famous': 573, 'revolutionary': 1427, 'troops': 1771, 'every': 541, 'conflict': 317, 'army': 70, 'general': 688, 'wayne': 1861, 'punished': 1340, 'wyoming': 1907, 'massacre': 993, 'one': 1141, 'third': 1710, 'soldiers': 1593, 'maxwell': 999, 'illustration': 800, 'battle': 115, 'monument': 1046, 'physical': 1230, 'political': 1257, 'half': 741, 'size': 1575, 'lies': 928, 'longitude': 949, 'latitude': 902, 'northernmost': 1110, 'point': 1254, 'marked': 985, 'rock': 1443, 'shore': 1553, 'port': 1268, 'jervis': 864, 'known': 883, 'tristates': 1769, 'cape': 218, 'may': 1000, 'length': 919, 'miles': 1026, 'narrowest': 1072, 'raritan': 1373, 'wide': 1879, 'widest': 1882, 'measured': 1003, 'extending': 557, 'great': 724, 'inlet': 835, 'smallest': 1582, 'middle': 1020, 'atlantic': 85, 'states': 1622, 'area': 67, 'square': 1615, 'land': 893, 'surface': 1671, 'water': 1854, 'fortyfifth': 643, 'relief': 1399, 'way': 1860, 'described': 420, 'mountainous': 1056, 'undulating': 1794, 'low': 952, 'sandy': 1477, 'southern': 1603, 'four': 651, 'provinces': 1334, 'zones': 1917, 'namely': 1068, 'appalachian': 56, 'zone': 1916, 'highlands': 773, 'piedmont': 1235, 'plateau': 1247, 'coastal': 283, 'plain': 1242, 'extend': 556, 'southwest': 1605, 'northeast': 1107, 'man': 971, 'stands': 1619, 'intersection': 849, 'pennsylvania': 1208, 'boundaries': 175, 'topographic': 1738, 'consists': 330, 'kittatinny': 882, 'mountain': 1055, 'valley': 1813, 'extends': 558, 'across': 11, 'northwestern': 1112, 'vicinity': 1831, 'gap': 678, 'width': 1884, 'belt': 135, 'varies': 1819, 'twelve': 1785, 'fourteen': 652, 'along': 39, 'thirty': 1713, 'corner': 353, 'blue': 156, 'height': 765, 'range': 1366, 'feet': 585, 'highest': 771, 'high': 769, 'elevation': 498, 'southeast': 1601, 'side': 1557, 'runs': 1461, 'parallel': 1175, 'map': 980, 'rugged': 1457, 'extensive': 559, 'forests': 633, 'many': 979, 'lakes': 889, 'noted': 1113, 'beautiful': 124, 'scenery': 1485, 'attracts': 95, 'summer': 1660, 'visitors': 1836, 'particularly': 1181, 'account': 9, 'break': 183, 'flows': 621, 'rough': 1452, 'section': 1501, 'adapted': 17, 'agriculture': 33, 'although': 43, 'bottom': 173, 'lands': 894, 'bordering': 168, 'streams': 1645, 'farms': 578, 'devoted': 433, 'raising': 1364, 'crops': 379, 'grazing': 723, 'second': 1498, 'immediately': 801, 'southeastern': 1602, 'boundary': 176, 'passes': 1190, 'near': 1083, 'boonton': 163, 'ten': 1698, 'twenty': 1786, 'generally': 689, 'hamburg': 743, 'wawayanda': 1858, 'reach': 1377, 'altitude': 44, 'well': 1867, 'belong': 132, 'region': 1398, 'term': 1700, 'applied': 62, 'consisting': 329, 'contain': 337, 'irregular': 855, 'masses': 994, 'interspersed': 850, 'fertile': 589, 'valleys': 1814, 'much': 1062, 'forest': 631, 'contains': 339, 'besides': 143, 'glacial': 700, 'origin': 1154, 'consequently': 324, 'natural': 1077, 'beauty': 125, 'popular': 1264, 'resort': 1421, 'desire': 423, 'outdoor': 1157, 'recreation': 1386, 'farm': 575, 'suitable': 1659, 'parts': 1183, 'specially': 1608, 'peaches': 1198, 'fruits': 670, 'valuable': 1815, 'mineral': 1031, 'deposits': 418, 'gravel': 722, 'cement': 239, 'zinc': 1914, 'iron': 854, 'next': 1099, 'woodbridge': 1894, 'middlesex': 1021, 'represents': 1408, 'fall': 570, 'sec': 1496, 'comprises': 312, 'fifth': 596, 'sea': 1491, 'level': 921, 'characterized': 252, 'presence': 1287, 'red': 1389, 'sandstone': 1475, 'shale': 1532, 'eastern': 483, 'rolling': 1448, 'western': 1871, 'higher': 770, 'plateaus': 1248, 'also': 41, 'ridges': 1433, 'watchung': 1853, 'mountains': 1057, 'palisades': 1173, 'hunterdon': 795, 'composed': 310, 'trap': 1758, 'molten': 1041, 'condition': 315, 'forced': 628, 'overlying': 1163, 'strata': 1642, 'sides': 1558, 'steep': 1629, 'slopes': 1579, 'underlying': 1793, 'worn': 1903, 'away': 102, 'harder': 752, 'resisted': 1420, 'erosion': 530, 'falls': 571, 'passaic': 1186, 'paterson': 1194, 'located': 943, 'seventy': 1524, 'formed': 636, 'passing': 1191, 'hard': 751, 'wearing': 1863, 'softer': 1590, 'nearness': 1088, 'commercial': 297, 'centers': 243, 'country': 362, 'excellent': 542, 'facilities': 566, 'transportation': 1757, 'larger': 898, 'cities': 266, 'barnegat': 107, 'lighthouse': 930, 'fourth': 653, 'includes': 815, 'remainder': 1401, 'interior': 848, 'elevations': 499, 'mount': 1054, 'holly': 779, 'outward': 1162, 'towards': 1742, 'margins': 982, 'greatest': 726, 'found': 645, 'three': 1719, 'fourths': 654, 'portion': 1269, 'less': 920, 'bordered': 167, 'coast': 282, 'salt': 1473, 'marshes': 990, 'tidal': 1723, 'meadows': 1001, 'whose': 1878, 'rarely': 1372, 'total': 1740, 'hackensack': 738, 'almost': 38, 'separated': 1516, 'ocean': 1129, 'beaches': 121, 'sand': 1474, 'constructed': 334, 'shallow': 1535, 'action': 13, 'waves': 1857, 'wind': 1887, 'absent': 3, 'manasquan': 972, 'beach': 120, 'mainland': 962, 'becoming': 128, 'deposit': 416, 'sediment': 1505, 'washed': 1848, 'long': 948, 'good': 709, 'harbors': 750, 'barrier': 109, 'shallowness': 1536, 'covered': 371, 'ice': 796, 'period': 1216, 'therefore': 1707, 'moraines': 1049, 'material': 995, 'carried': 224, 'glacier': 701, 'consist': 327, 'clay': 271, 'bowlders': 177, 'take': 1686, 'hills': 775, 'others': 1156, 'spread': 1611, 'sheets': 1539, 'partly': 1182, 'filled': 598, 'occupy': 1127, 'basins': 111, 'scooped': 1488, 'outlets': 1158, 'blocked': 153, 'terminal': 1701, 'moraine': 1048, 'marks': 988, 'limit': 933, 'belvidere': 137, 'perth': 1221, 'amboy': 46, 'passed': 1187, 'rocks': 1445, 'polished': 1256, 'surfaces': 1672, 'left': 914, 'scratches': 1489, 'indicate': 823, 'southward': 1604, 'movement': 1060, 'beneath': 138, 'continental': 343, 'shelf': 1540, 'ancient': 50, 'climate': 277, 'milder': 1023, 'subject': 1652, 'extreme': 563, 'fluctuation': 622, 'average': 101, 'annual': 53, 'temperature': 1696, 'lower': 953, 'end': 513, 'due': 473, 'distance': 448, 'greater': 725, 'prevailing': 1292, 'winds': 1888, 'track': 1747, 'storms': 1641, 'cross': 380, 'continent': 342, 'blowing': 155, 'toward': 1741, 'storm': 1640, 'bring': 193, 'moisture': 1039, 'insure': 842, 'ample': 48, 'rainfall': 1362, 'local': 942, 'showers': 1555, 'thunderstorms': 1721, 'move': 1059, 'frequent': 662, 'spring': 1612, 'months': 1045, 'benefit': 139, 'breezes': 186, 'felt': 586, 'sufficient': 1656, 'kinds': 880, 'grown': 735, 'northeastern': 1108, 'precipitation': 1285, 'fifty': 597, 'inches': 812, 'least': 909, 'fortyone': 644, 'highland': 772, 'light': 929, 'drainage': 462, 'divide': 453, 'flow': 618, 'newark': 1097, 'drained': 463, 'tributaries': 1768, 'drain': 461, 'basin': 110, 'small': 1580, 'several': 1525, 'considerable': 325, 'wallkill': 1842, 'rises': 1436, 'saddle': 1466, 'pompton': 1260, 'ramapo': 1365, 'wanaque': 1844, 'greenwood': 728, 'lake': 888, 'pequannock': 1212, 'rockaway': 1444, 'follows': 624, 'tortuous': 1739, 'course': 364, 'bays': 119, 'border': 166, 'affected': 25, 'largest': 899, 'navigable': 1081, 'courses': 365, 'case': 226, 'tide': 1724, 'important': 804, 'hoboken': 778, 'bayonne': 118, 'elizabeth': 504, 'brunswick': 199, 'branch': 180, 'asbury': 77, 'park': 1178, 'camden': 211, 'broad': 194, 'flat': 614, 'stream': 1644, 'crossed': 381, 'summit': 1661, 'millburn': 1028, 'flowed': 619, 'sheet': 1538, 'receded': 1382, 'drift': 470, 'large': 896, 'geologists': 694, 'call': 209, 'liberty': 923, 'farther': 580, 'gaps': 679, 'exposed': 555, 'older': 1139, 'escaped': 532, 'present': 1288, 'disappeared': 442, 'changes': 249, 'explain': 553, 'swampy': 1679, 'power': 1282, 'generated': 690, 'rapid': 1368, 'descent': 419, 'utilized': 1812, 'manufacturing': 978, 'purposes': 1344, 'mills': 1029, 'location': 944, 'center': 242, 'developed': 429, 'secured': 1503, 'rapids': 1371, 'used': 1808, 'provide': 1330, 'electric': 496, 'closely': 278, 'connected': 320, 'systems': 1684, 'dependent': 415, 'largely': 897, 'upon': 1803, 'methods': 1017, 'supplying': 1668, 'people': 1211, 'towns': 1744, 'domestic': 459, 'formerly': 638, 'obtained': 1123, 'nearby': 1084, 'springs': 1614, 'wells': 1869, 'population': 1266, 'increased': 818, 'sources': 1599, 'supply': 1667, 'became': 126, 'contaminated': 340, 'dangerous': 394, 'health': 761, 'danger': 393, 'quantity': 1350, 'required': 1410, 'interests': 847, 'make': 968, 'provision': 1335, 'securing': 1504, 'remote': 1404, 'pollution': 1259, 'watersupply': 1856, 'include': 813, 'pumping': 1338, 'stations': 1624, 'reservoirs': 1414, 'storage': 1637, 'pipe': 1238, 'lines': 936, 'taken': 1687, 'municipal': 1064, 'thinly': 1709, 'populated': 1265, 'profitable': 1310, 'useful': 1809, 'furnishing': 674, 'draw': 465, 'upper': 1804, 'drew': 469, 'far': 574, 'former': 637, 'gradually': 714, 'polluted': 1258, 'sewage': 1526, 'waste': 1850, 'factories': 567, 'discharged': 443, 'abandoned': 0, 'source': 1598, 'distances': 449, 'using': 1810, 'cases': 227, 'artesian': 73, 'sewers': 1528, 'drains': 464, 'destroys': 425, 'fish': 610, 'freshwater': 665, 'damage': 391, 'even': 540, 'oyster': 1167, 'clam': 268, 'fisheries': 611, 'alive': 37, 'necessity': 1090, 'protecting': 1327, 'contamination': 341, 'enacted': 511, 'legislation': 915, 'designed': 421, 'maintain': 964, 'purity': 1342, 'preventing': 1294, 'objectionable': 1120, 'matter': 997, 'provided': 1331, 'construction': 335, 'trunkline': 1775, 'sewer': 1527, 'cooperation': 349, 'laws': 905, 'prevent': 1293, 'plants': 1246, 'animals': 52, 'settled': 1519, 'vast': 1825, 'primeval': 1295, 'pine': 1236, 'oak': 1119, 'maple': 981, 'chestnut': 258, 'hickory': 768, 'ash': 78, 'walnut': 1843, 'tulip': 1780, 'poplar': 1263, 'cedar': 236, 'years': 1910, 'lumbering': 954, 'industry': 828, 'ceased': 235, 'ago': 31, 'best': 144, 'timber': 1727, 'cut': 388, 'difficult': 436, 'impossible': 806, 'promise': 1317, 'value': 1816, 'future': 677, 'pines': 1237, 'stunted': 1650, 'mingled': 1034, 'scrub': 1490, 'isolated': 859, 'forested': 632, 'areas': 68, 'varied': 1818, 'extent': 561, 'forty': 641, 'per': 1213, 'cent': 241, 'growth': 736, 'recent': 1383, 'organized': 1152, 'efforts': 491, 'protect': 1326, 'trees': 1765, 'fires': 607, 'destructive': 426, 'agencies': 30, 'reforestation': 1396, 'however': 791, 'realized': 1379, 'importance': 803, 'promoting': 1318, 'available': 100, 'farming': 577, 'recognized': 1384, 'floods': 616, 'secs': 1500, 'additional': 18, 'reason': 1380, 'protection': 1328, 'preserving': 1290, 'soils': 1592, 'obtain': 1122, 'times': 1729, 'constant': 331, 'use': 1807, 'shade': 1531, 'breaks': 184, 'justify': 872, 'care': 222, 'reasons': 1381, 'adopted': 21, 'provides': 1332, 'owns': 1166, 'maintains': 966, 'six': 1571, 'reserves': 1413, 'containing': 338, 'nearly': 1087, 'acres': 10, 'culture': 386, 'authorized': 97, 'counties': 360, 'create': 376, 'parks': 1179, 'diffusion': 438, 'information': 831, 'regarding': 1397, 'lookout': 950, 'detected': 427, 'force': 627, 'firewardens': 608, 'extinguish': 562, 'arrest': 72, 'cause': 232, 'acting': 12, 'together': 1733, 'created': 377, 'interstate': 851, 'embraces': 507, 'thousands': 1717, 'shipping': 1548, 'tomatoes': 1735, 'swedesboro': 1681, 'wild': 1885, 'practically': 1284, 'deer': 403, 'frequently': 663, 'afforded': 26, 'animal': 51, 'smaller': 1581, 'rabbit': 1355, 'squirrel': 1616, 'ducks': 472, 'quail': 1346, 'numerous': 1117, 'abound': 1, 'bass': 113, 'trout': 1772, 'pickerel': 1232, 'perch': 1214, 'shad': 1530, 'catch': 229, 'sturgeon': 1651, 'constantly': 332, 'restocked': 1425, 'means': 1002, 'hatcheries': 757, 'hackettstown': 739, 'owing': 1165, 'chiefly': 260, 'fishing': 612, 'sheltered': 1542, 'inlets': 836, 'markets': 987, 'successful': 1654, 'bluefish': 157, 'weakfish': 1862, 'food': 625, 'menhaden': 1011, 'oil': 1135, 'fertilizer': 591, 'caught': 231, 'quantities': 1349, 'coves': 372, 'immense': 802, 'oysters': 1168, 'clams': 269, 'gathered': 686, 'keyport': 877, 'tuckerton': 1779, 'absecon': 2, 'maurice': 998, 'cove': 369, 'bivalve': 150, 'denuded': 412, 'soil': 1591, 'mixed': 1038, 'easy': 485, 'cultivate': 384, 'stones': 1635, 'disintegrated': 446, 'consisted': 328, 'gneiss': 707, 'sandstones': 1476, 'shales': 1533, 'marl': 989, 'deposited': 417, 'shells': 1541, 'lived': 941, 'abundance': 4, 'strip': 1648, 'past': 1192, 'salem': 1472, 'narrower': 1071, 'rich': 1429, 'extensively': 560, 'enrich': 522, 'poorer': 1262, 'displaced': 447, 'richer': 1430, 'fertilizers': 592, 'socalled': 1588, 'barrens': 108, 'cover': 370, 'comparatively': 306, 'unproductive': 1800, 'proper': 1320, 'cultivation': 385, 'application': 61, 'productive': 1308, 'gathering': 687, 'production': 1307, 'grain': 715, 'compete': 308, 'plains': 1244, 'wheat': 1875, 'produced': 1304, 'mainly': 963, 'consumption': 336, 'corn': 352, 'rye': 1465, 'buckwheat': 200, 'raised': 1363, 'limited': 934, 'pasture': 1193, 'hay': 759, 'circumstances': 265, 'extremely': 564, 'favorable': 581, 'special': 1607, 'agricultural': 32, 'industries': 826, 'products': 1309, 'vegetables': 1827, 'flowers': 620, 'poultry': 1280, 'eggs': 493, 'milk': 1027, 'butter': 207, 'mild': 1022, 'winters': 1890, 'generous': 692, 'fertility': 590, 'resorts': 1422, 'philadelphia': 1225, 'demand': 408, 'makes': 969, 'market': 986, 'gardening': 681, 'intensity': 844, 'sections': 1502, 'potato': 1276, 'crop': 378, 'sweet': 1682, 'potatoes': 1277, 'prominent': 1316, 'beans': 122, 'peas': 1201, 'canning': 216, 'cabbages': 208, 'celery': 237, 'onions': 1142, 'fresh': 664, 'encouraged': 512, 'gardeners': 680, 'devote': 432, 'attention': 89, 'growing': 734, 'glass': 702, 'warren': 1847, 'morris': 1050, 'stony': 1636, 'apples': 59, 'pears': 1200, 'abundant': 5, 'strawberries': 1643, 'blackberries': 151, 'raspberries': 1374, 'grapes': 720, 'establishments': 538, 'bottling': 172, 'unfermented': 1796, 'grape': 719, 'juice': 870, 'huckleberries': 792, 'common': 301, 'wooded': 1896, 'cranberry': 373, 'bogs': 160, 'burlington': 205, 'buildings': 202, 'experimental': 552, 'station': 1623, 'dairy': 390, 'easily': 481, 'prompt': 1319, 'hand': 746, 'farmer': 576, 'devoting': 434, 'feeding': 583, 'cattle': 230, 'handling': 748, 'produce': 1303, 'superior': 1664, 'quality': 1348, 'especially': 533, 'cumberland': 387, 'increase': 817, 'clear': 274, 'possible': 1274, 'desirable': 422, 'school': 1486, 'rutgers': 1463, 'college': 285, 'experiment': 551, 'practical': 1283, 'instruction': 839, 'improve': 807, 'silage': 1560, 'front': 667, 'minerals': 1032, 'ore': 1150, 'mines': 1033, 'smelted': 1583, 'shrewsbury': 1556, 'seventeenth': 1523, 'century': 245, 'colonel': 287, 'lewis': 922, 'quarter': 1354, 'last': 900, 'richness': 1431, 'ores': 1151, 'since': 1566, 'operate': 1144, 'furnaces': 673, 'profitably': 1311, 'declined': 399, 'worked': 1899, 'two': 1791, 'sussex': 1678, 'neighborhood': 1092, 'franklin': 656, 'furnace': 672, 'ranks': 1367, 'union': 1797, 'portland': 1270, 'phillipsburg': 1227, 'granite': 716, 'quarrying': 1353, 'rapidly': 1370, 'widely': 1880, 'building': 201, 'slate': 1577, 'quarried': 1351, 'talc': 1688, 'soapstone': 1587, 'ground': 729, 'powder': 1281, 'making': 970, 'certain': 247, 'paper': 1174, 'limestone': 932, 'adjacent': 19, 'easton': 484, 'road': 1441, 'railroad': 1359, 'beds': 129, 'hardness': 753, 'macadam': 956, 'roads': 1442, 'necessary': 1089, 'operations': 1145, 'already': 40, 'mentioned': 1012, 'fine': 603, 'caused': 233, 'establishment': 537, 'molding': 1040, 'mercer': 1013, 'pottery': 1279, 'brick': 188, 'terra': 1705, 'cotta': 356, 'tile': 1726, 'enormous': 521, 'clays': 272, 'finer': 604, 'brought': 198, 'countries': 361, 'shipped': 1547, 'works': 1901, 'remarkable': 1402, 'degree': 405, 'combination': 291, 'conditions': 316, 'causes': 234, 'needs': 1091, 'demands': 409, 'neighbors': 1094, 'establish': 535, 'thus': 1722, 'advantage': 22, 'resources': 1423, 'profited': 1312, 'greatly': 727, 'coal': 281, 'fields': 593, 'manufactured': 976, 'number': 1115, 'intelligent': 843, 'skillful': 1576, 'workers': 1900, 'unusually': 1802, 'raw': 1376, 'materials': 996, 'finished': 605, 'fringe': 666, 'transcontinental': 1755, 'branches': 181, 'facilitate': 565, 'shipments': 1546, 'world': 1902, 'manufactures': 977, 'refined': 1391, 'copper': 350, 'silk': 1561, 'goods': 710, 'foundry': 650, 'machine': 957, 'shop': 1551, 'petroleum': 1224, 'packed': 1169, 'meats': 1005, 'woolen': 1898, 'wire': 1891, 'leather': 910, 'electrical': 497, 'machinery': 958, 'tobacco': 1732, 'chemicals': 257, 'ships': 1549, 'see': 1506, 'table': 1685, 'warping': 1846, 'weaving': 1864, 'sixth': 1572, 'engaged': 515, 'massachusetts': 992, 'rhode': 1428, 'island': 857, 'connecticut': 321, 'hampshire': 745, 'show': 1554, 'proportion': 1321, 'ninth': 1104, 'manufacture': 975, 'smelting': 1584, 'refining': 1394, 'cloth': 279, 'linoleum': 937, 'sewing': 1529, 'machines': 959, 'rubber': 1456, 'paint': 1171, 'varnish': 1822, 'supplies': 1666, 'soap': 1585, 'gold': 708, 'silver': 1563, 'articles': 75, 'travel': 1759, 'days': 395, 'communication': 302, 'indian': 821, 'trails': 1751, 'expanded': 548, 'sailing': 1471, 'vessels': 1829, 'effort': 490, 'keeping': 875, 'public': 1337, 'difficulties': 437, 'turnpikes': 1784, 'built': 203, 'private': 1301, 'companies': 304, 'charged': 254, 'tolls': 1734, 'exceptions': 546, 'nineteenth': 1103, 'foundations': 646, 'steamboat': 1626, 'canals': 213, 'railroads': 1360, 'laid': 887, 'canal': 212, 'projected': 1315, 'anthracite': 55, 'forges': 634, 'connect': 319, 'route': 1454, 'bordentown': 165, 'order': 1149, 'development': 431, 'direct': 439, 'trunk': 1774, 'exception': 543, 'pass': 1184, 'terminals': 1702, 'weehawken': 1865, 'mileage': 1025, 'compared': 307, 'railway': 1361, 'traverse': 1761, 'points': 1255, 'refinery': 1393, 'tanks': 1690, 'elizabethport': 505, 'advantages': 23, 'obsolete': 1121, 'traffic': 1750, 'probable': 1302, 'widened': 1881, 'deepened': 401, 'become': 127, 'barge': 106, 'ship': 1544, 'ferries': 587, 'bridges': 190, 'bridge': 189, 'proposed': 1322, 'enters': 525, 'tunnels': 1782, 'tunnel': 1781, 'vehicles': 1828, 'municipalities': 1065, 'spending': 1610, 'sums': 1662, 'money': 1042, 'maintenance': 967, 'funds': 671, 'charge': 253, 'highway': 774, 'commission': 298, 'issuance': 860, 'automobile': 98, 'licenses': 925, 'tax': 1693, 'recuperation': 1388, 'attractive': 93, 'pleasure': 1253, 'year': 1909, 'round': 1453, 'attractions': 92, 'kind': 879, 'woods': 1897, 'authority': 96, 'given': 697, 'law': 904, 'playgrounds': 1250, 'progressive': 1314, 'plans': 1245, 'healthful': 762, 'provisions': 1336, 'board': 158, 'walk': 1840, 'stringent': 1647, 'measures': 1004, 'sanitation': 1479, 'disease': 445, 'injury': 834, 'housing': 790, 'safety': 1467, 'minors': 1036, 'permissible': 1218, 'occupations': 1125, 'segregation': 1509, 'treatment': 1763, 'tuberculous': 1778, 'payment': 1197, 'damages': 392, 'persons': 1220, 'injured': 833, 'pensions': 1210, 'widows': 1883, 'menace': 1010, 'comfort': 292, 'breeding': 185, 'mosquitoes': 1052, 'spend': 1609, 'purpose': 1343, 'destroying': 424, 'pests': 1222, 'education': 487, 'constitution': 333, 'divides': 455, 'departments': 414, 'legislative': 916, 'executive': 547, 'judicial': 869, 'department': 413, 'vested': 1830, 'legislature': 917, 'senate': 1512, 'assembly': 79, 'senator': 1513, 'elected': 495, 'voters': 1839, 'sixty': 1573, 'assemblymen': 80, 'apportioned': 64, 'according': 8, 'person': 1219, 'successive': 1655, 'terms': 1704, 'courts': 368, 'principal': 1297, 'court': 366, 'errors': 531, 'appeals': 58, 'chancery': 248, 'supreme': 1670, 'circuit': 264, 'pleas': 1251, 'judges': 868, 'appointed': 63, 'approval': 66, 'capitol': 220, 'officers': 1131, 'secretary': 1499, 'treasurer': 1762, 'comptroller': 313, 'attorneygeneral': 90, 'twentyone': 1788, 'townships': 1745, 'boroughs': 169, 'administered': 20, 'accordance': 7, 'judge': 867, 'sheriff': 1543, 'clerk': 275, 'surrogate': 1675, 'coroner': 354, 'collector': 284, 'members': 1008, 'freeholders': 659, 'vote': 1838, 'courthouses': 367, 'penitentiaries': 1205, 'homes': 781, 'aged': 29, 'poor': 1261, 'parental': 1177, 'detention': 428, 'juvenile': 873, 'delinquents': 407, 'witnesses': 1893, 'represented': 1407, 'united': 1798, 'congress': 318, 'senators': 1514, 'normal': 1105, 'montclair': 1044, 'requires': 1412, 'shall': 1534, 'support': 1669, 'thorough': 1714, 'efficient': 489, 'system': 1683, 'free': 657, 'schools': 1487, 'children': 261, 'requirement': 1411, 'enforce': 514, 'commissioner': 299, 'assistant': 81, 'commissioners': 300, 'superintendent': 1663, 'supervising': 1665, 'nassua': 1073, 'hall': 742, 'university': 1799, 'pupils': 1341, 'attended': 88, 'teachers': 1694, 'compulsory': 314, 'attendance': 87, 'illiterates': 798, 'age': 28, 'could': 359, 'read': 1378, 'write': 1905, 'foreign': 629, 'birth': 149, 'native': 1076, 'parentage': 1176, 'training': 1752, 'glassboro': 703, 'maintained': 965, 'preparation': 1286, 'appropriations': 65, 'farnum': 579, 'beverly': 146, 'associated': 82, 'deaf': 396, 'manual': 974, 'industrial': 824, 'colored': 290, 'youths': 1913, 'institutions': 838, 'learning': 908, 'stevens': 1630, 'institute': 837, 'technology': 1695, 'st': 1617, 'peter': 1223, 'convent': 347, 'mary': 991, 'plainfield': 1243, 'theological': 1706, 'seminary': 1511, 'madison': 961, 'seton': 1518, 'orange': 1148, 'upsala': 1805, 'kenilworth': 876, 'bloomfield': 154, 'metropolitan': 1018, 'district': 451, 'census': 240, 'density': 411, 'mile': 1024, 'giving': 699, 'tenth': 1699, 'essex': 534, 'sixtyfive': 1574, 'thickly': 1708, 'scattered': 1483, 'urban': 1806, 'residing': 1419, 'leaves': 911, 'rural': 1462, 'stock': 1634, 'chief': 259, 'commerce': 296, 'enterprises': 524, 'business': 206, 'pursuits': 1345, 'neighboring': 1093, 'opportunities': 1146, 'comfortable': 293, 'residence': 1415, 'conveniences': 345, 'unsurpassed': 1801, 'traveling': 1760, 'back': 103, 'forth': 640, 'attract': 91, 'employed': 510, 'included': 814, 'gloucester': 705, 'thirds': 1711, 'influence': 829, 'activities': 15, 'bureau': 204, 'defines': 404, 'central': 244, 'lie': 927, 'within': 1892, 'streets': 1646, 'villages': 1833, 'placed': 1240, 'groups': 732, 'outside': 1160, 'following': 623, 'environs': 529, 'fifteenth': 595, 'frontage': 668, 'eleven': 501, 'kill': 878, 'van': 1817, 'kull': 884, 'dredged': 467, 'channel': 250, 'hundred': 794, 'deep': 400, 'improvement': 808, 'improvements': 809, 'expense': 550, 'enjoys': 520, 'nine': 1101, 'directly': 440, 'passenger': 1188, 'trains': 1753, 'banks': 105, 'office': 1130, 'stores': 1639, 'trolley': 1770, 'radiate': 1356, 'trade': 1748, 'variety': 1820, 'eleventh': 502, 'progress': 1313, 'start': 1620, 'stimulus': 1633, 'opening': 1143, 'shoes': 1550, 'hats': 758, 'jewelry': 865, 'steel': 1628, 'brass': 182, 'watch': 1851, 'paints': 1172, 'varnishes': 1823, 'clothing': 280, 'appliances': 60, 'tinware': 1731, 'advertising': 24, 'novelties': 1114, 'celluloid': 238, 'trunks': 1776, 'furs': 676, 'brewery': 187, 'cigars': 263, 'storagebattery': 1638, 'factory': 568, 'drawn': 466, 'twentysix': 1789, 'surrounding': 1676, 'reflect': 1395, 'social': 1589, 'influences': 830, 'belleville': 130, 'nutley': 1118, 'glen': 704, 'ridge': 1432, 'irvington': 856, 'residential': 1417, 'eligible': 503, 'sites': 1569, 'exceptionally': 545, 'active': 14, 'providing': 1333, 'educational': 488, 'naturally': 1078, 'discouraged': 444, 'nearest': 1086, 'activity': 16, 'respect': 1424, 'slope': 1578, 'commanding': 294, 'view': 1832, 'populous': 1267, 'multitude': 1063, 'home': 780, 'similarly': 1565, 'situated': 1570, 'dwellings': 477, 'lamps': 892, 'worsted': 1904, 'labels': 885, 'cream': 375, 'separators': 1517, 'residences': 1416, 'attractiveness': 94, 'dwelling': 476, 'cost': 355, 'invite': 852, 'motors': 1053, 'generators': 691, 'surgical': 1673, 'phonographs': 1229, 'phonograph': 1228, 'records': 1385, 'moving': 1061, 'picture': 1233, 'instruments': 840, 'films': 600, 'batteries': 114, 'developing': 430, 'rather': 1375, 'feeling': 584, 'impulse': 810, 'suburb': 1653, 'castings': 228, 'graphite': 721, 'tools': 1737, 'cutlery': 389, 'platinum': 1249, 'harrison': 755, 'kearney': 874, 'arlington': 69, 'officially': 1132, 'seat': 1495, 'nearer': 1085, 'ties': 1725, 'prosperous': 1325, 'national': 1074, 'thread': 1718, 'rollers': 1447, 'incandescent': 811, 'steam': 1625, 'pumps': 1339, 'roller': 1446, 'bearings': 123, 'elevators': 500, 'tin': 1730, 'toys': 1746, 'metal': 1016, 'linoleums': 938, 'yarns': 1908, 'twine': 1790, 'glue': 706, 'oils': 1137, 'seen': 1508, 'narrow': 1070, 'peninsula': 1204, 'densely': 410, 'group': 731, 'twentyfirst': 1787, 'occupied': 1126, 'soon': 1596, 'church': 262, 'westward': 1873, 'unexcelled': 1795, 'seaports': 1492, 'thirteen': 1712, 'freight': 660, 'sail': 1469, 'nineteen': 1102, 'trust': 1777, 'connection': 322, 'passengers': 1189, 'heart': 763, 'minutes': 1037, 'sugar': 1657, 'printers': 1299, 'type': 1792, 'soaps': 1586, 'perfumes': 1215, 'silks': 1562, 'embroideries': 508, 'lead': 906, 'pencils': 1203, 'fire': 606, 'hose': 786, 'soups': 1597, 'watches': 1852, 'heating': 764, 'lighting': 931, 'apparatus': 57, 'rope': 1449, 'eight': 494, 'library': 924, 'live': 940, 'connections': 323, 'steamships': 1627, 'transatlantic': 1754, 'scandinavian': 1482, 'dock': 457, 'shipbuilding': 1545, 'repairing': 1405, 'surveying': 1677, 'nautical': 1079, 'marine': 983, 'engines': 516, 'boilers': 161, 'furniture': 675, 'wall': 1841, 'wellknown': 1868, 'industrially': 825, 'similar': 1564, 'guttenberg': 737, 'secaucus': 1497, 'thriving': 1720, 'communities': 303, 'leads': 907, 'shops': 1552, 'pianos': 1231, 'lard': 895, 'vegetable': 1826, 'gives': 698, 'exceptional': 544, 'deepwater': 402, 'ohio': 1134, 'refineries': 1392, 'bronze': 195, 'cottonseed': 358, 'nickel': 1100, 'borax': 164, 'insulated': 841, 'character': 251, 'englewood': 518, 'fort': 639, 'lee': 913, 'edgewater': 486, 'foot': 626, 'sirups': 1568, 'founding': 648, 'suggested': 1658, 'alexander': 35, 'hamilton': 744, 'foresaw': 630, 'foundries': 649, 'locomotive': 946, 'dyeing': 478, 'cordage': 351, 'handkerchiefs': 747, 'cotton': 357, 'belting': 136, 'packing': 1170, 'print': 1298, 'chemical': 256, 'docks': 458, 'embarkation': 506, 'debarkation': 397, 'clifton': 276, 'lodi': 947, 'garfield': 682, 'waxed': 1859, 'carpets': 223, 'rugs': 1459, 'rutherford': 1464, 'hasbrouck': 756, 'heights': 766, 'ridgewood': 1434, 'westwood': 1874, 'inviting': 853, 'residents': 1418, 'oldest': 1140, 'philip': 1226, 'favorably': 582, 'arthur': 74, 'tanning': 1691, 'printing': 1300, 'always': 45, 'place': 1239, 'rahway': 1357, 'flourishing': 617, 'cereals': 246, 'music': 1066, 'boxes': 178, 'book': 162, 'binding': 148, 'roselle': 1450, 'cranford': 374, 'westfield': 1872, 'garwood': 684, 'alternated': 42, 'meeting': 1007, 'fifteen': 594, 'mouth': 1058, 'earthenware': 480, 'vaseline': 1824, 'boat': 159, 'metuchen': 1019, 'sayreville': 1481, 'output': 1159, 'outskirts': 1161, 'beyond': 147, 'yet': 1911, 'associations': 83, 'distinctively': 450, 'possesses': 1272, 'another': 54, 'peculiar': 1202, 'roses': 1451, 'dover': 460, 'picturesque': 1234, 'locations': 945, 'hosiery': 787, 'presses': 1291, 'garments': 683, 'somerville': 1594, 'laces': 886, 'bound': 174, 'brook': 196, 'junction': 871, 'finderne': 602, 'asbestos': 76, 'ferry': 588, 'dressings': 468, 'automobiles': 99, 'boys': 179, 'jamesburg': 861, 'rail': 1358, 'freehold': 658, 'rugmaking': 1458, 'capital': 219, 'occurred': 1128, 'commemorated': 295, 'imposing': 805, 'head': 760, 'navigation': 1082, 'rely': 1400, 'basis': 112, 'fortyeight': 642, 'potteries': 1278, 'rivaled': 1437, 'better': 145, 'grades': 713, 'require': 1409, 'england': 517, 'france': 655, 'sanitary': 1478, 'oilcloth': 1136, 'grounds': 730, 'around': 71, 'memorable': 1009, 'scene': 1484, 'historic': 776, 'lambertville': 891, 'quarries': 1352, 'pennington': 1207, 'hopewell': 784, 'industrious': 827, 'opposite': 1147, 'lehigh': 918, 'meet': 1006, 'terminus': 1703, 'strongly': 1649, 'air': 34, 'compressors': 311, 'drills': 471, 'horseshoes': 785, 'canisters': 215, 'washington': 1849, 'blairstown': 152, 'organs': 1153, 'saws': 1480, 'newton': 1098, 'flemington': 615, 'though': 1715, 'peachgrowing': 1199, 'zincmining': 1915, 'usually': 1811, 'considered': 326, 'belonging': 134, 'vitally': 1837, 'stimulating': 1632, 'colonial': 288, 'cooper': 348, 'shares': 1537, 'owes': 1164, 'crosses': 382, 'completed': 309, 'astonishing': 84, 'rapidity': 1369, 'talking': 1689, 'battleships': 116, 'merchant': 1014, 'candies': 214, 'licorice': 926, 'writing': 1906, 'pens': 1209, 'filling': 599, 'capping': 221, 'cans': 217, 'riverside': 1440, 'truck': 1773, 'hardware': 754, 'old': 1138, 'tapestry': 1692, 'merchantville': 1015, 'moorestown': 1047, 'collingswood': 286, 'haddonfield': 740, 'gas': 685, 'mantles': 973, 'transport': 1756, 'fruit': 669, 'woodbury': 1895, 'bottles': 171, 'clayton': 273, 'quakers': 1347, 'bridgeton': 191, 'vineland': 1834, 'millville': 1030, 'mining': 1035, 'product': 1306, 'berries': 142, 'tree': 1764, 'preserved': 1289, 'produces': 1305, 'bottled': 170, 'diversified': 452, 'house': 789, 'convenient': 346, 'access': 6, 'visit': 1835, 'seaside': 1494, 'entirely': 528, 'entertainment': 526, 'said': 1468, 'thousand': 1716, 'hotels': 788, 'numbers': 1116, 'somewhat': 1595, 'estimated': 539, 'convalescing': 344, 'illness': 799, 'seek': 1507, 'recuperate': 1387, 'entire': 527, 'mark': 984, 'standing': 1618, 'pleasant': 1252, 'girt': 696, 'belmar': 131, 'grove': 733, 'bright': 192, 'bank': 104, 'navesink': 1080, 'classed': 270, 'lakewood': 890, 'winter': 1889} \n",
      "\n"
     ]
    }
   ],
   "source": [
    "from sklearn.feature_extraction.text import TfidfVectorizer\n",
    "\n",
    "# create the transform\n",
    "vectorizer = TfidfVectorizer()\n",
    "\n",
    "# tokenize and build vocab\n",
    "vectorizer.fit(words)\n",
    "\n",
    "# summarize\n",
    "print(\"Vocabulary: \",vectorizer.vocabulary_,\"\\n\")"
   ]
  },
  {
   "cell_type": "code",
   "execution_count": 13,
   "metadata": {},
   "outputs": [
    {
     "name": "stdout",
     "output_type": "stream",
     "text": [
      "idf:  [8.37211803 9.06526521 9.06526521 ... 9.06526521 7.19346303 8.37211803] \n",
      "\n"
     ]
    }
   ],
   "source": [
    "print(\"idf: \",vectorizer.idf_,\"\\n\")"
   ]
  },
  {
   "cell_type": "code",
   "execution_count": 14,
   "metadata": {},
   "outputs": [
    {
     "name": "stdout",
     "output_type": "stream",
     "text": [
      "Shape:  (1, 1918) \n",
      "\n"
     ]
    }
   ],
   "source": [
    "# encode document\n",
    "vector = vectorizer.transform([text[0]])\n",
    "# summarize encoded vector\n",
    "print(\"Shape: \",vector.shape,\"\\n\")"
   ]
  },
  {
   "cell_type": "code",
   "execution_count": 15,
   "metadata": {},
   "outputs": [
    {
     "name": "stdout",
     "output_type": "stream",
     "text": [
      "Array:  [[0. 0. 0. ... 0. 0. 0.]] \n",
      "\n"
     ]
    }
   ],
   "source": [
    "print(\"Array: \",vector.toarray(),\"\\n\")"
   ]
  },
  {
   "cell_type": "markdown",
   "metadata": {},
   "source": [
    "# Lesson 4:  Word  Embeddings"
   ]
  },
  {
   "cell_type": "markdown",
   "metadata": {},
   "source": [
    "# Task"
   ]
  },
  {
   "cell_type": "code",
   "execution_count": 7,
   "metadata": {},
   "outputs": [
    {
     "name": "stdout",
     "output_type": "stream",
     "text": [
      "[['this', 'is', 'the', 'first', 'sentence', 'for', 'word2vec'], ['this', 'is', 'the', 'second', 'sentence'], ['yet', 'another', 'sentence'], ['one', 'more', 'sentence'], ['and', 'the', 'final', 'sentence']]\n"
     ]
    }
   ],
   "source": [
    "from gensim.models import Word2Vec\n",
    "from sklearn.decomposition import PCA\n",
    "from matplotlib import pyplot\n",
    "# define training data\n",
    "sentences = [['this', 'is', 'the', 'first', 'sentence', 'for', 'word2vec'],\n",
    "            ['this', 'is', 'the', 'second', 'sentence'],\n",
    "            ['yet', 'another', 'sentence'],\n",
    "            ['one', 'more', 'sentence'],\n",
    "            ['and', 'the', 'final', 'sentence']]\n",
    "\n",
    "# train model\n",
    "model = Word2Vec(sentences, min_count=1)\n",
    "\n",
    "# fit a 2d PCA model to the vectors\n",
    "X = model[model.wv.vocab]\n",
    "pca = PCA(n_components=2)\n",
    "result = pca.fit_transform(X)\n",
    "\n",
    "# create a scatter plot of the projection\n",
    "pyplot.scatter(result[:, 0], result[:, 1])\n",
    "words = list(model.wv.vocab)\n",
    "\n",
    "for i, word in enumerate(words):\n",
    "    pyplot.annotate(word, xy=(result[i, 0], result[i, 1]))\n",
    "pyplot.show()"
   ]
  },
  {
   "cell_type": "code",
   "execution_count": 3,
   "metadata": {},
   "outputs": [],
   "source": [
    "#Imports\n",
    "import string\n",
    "from nltk.tokenize import word_tokenize\n",
    "from nltk.corpus import stopwords\n",
    "from nltk.stem.porter import PorterStemmer\n",
    "from nltk import sent_tokenize"
   ]
  },
  {
   "cell_type": "code",
   "execution_count": 4,
   "metadata": {},
   "outputs": [],
   "source": [
    "# load data\n",
    "filename = 'Book_data.txt'\n",
    "file = open(filename, 'rt')\n",
    "text = file.read()\n",
    "file.close()\n",
    "# split into words\n",
    "from nltk.tokenize import word_tokenize\n",
    "tokens = word_tokenize(text)"
   ]
  },
  {
   "cell_type": "code",
   "execution_count": 5,
   "metadata": {},
   "outputs": [
    {
     "name": "stdout",
     "output_type": "stream",
     "text": [
      "early history\n",
      "\n",
      "\n",
      "the original inhabitants of new jersey h were indians of the delaware\n",
      "tribe which belonged to the algonquin family\n"
     ]
    }
   ],
   "source": [
    "# split into words\n",
    "tokens = sent_tokenize(text)\n",
    "\n",
    "# convert to lower case\n",
    "tokens = [w.lower() for w in tokens]\n",
    "\n",
    "# remove punctuation from each word\n",
    "table = str.maketrans('', '', string.punctuation)\n",
    "stripped = [w.translate(table) for w in tokens]\n",
    "\n",
    "# filter out stop words\n",
    "stop_words = set(stopwords.words('english'))\n",
    "sentence = [s for s in stripped ]\n",
    "words = [w for w in sentence ]\n",
    "print(sentence[0])"
   ]
  },
  {
   "cell_type": "code",
   "execution_count": null,
   "metadata": {},
   "outputs": [
    {
     "name": "stderr",
     "output_type": "stream",
     "text": [
      "Exception in thread Thread-24:\n",
      "Traceback (most recent call last):\n",
      "  File \"/home/david/anaconda3/lib/python3.8/threading.py\", line 932, in _bootstrap_inner\n",
      "    self.run()\n",
      "  File \"/home/david/anaconda3/lib/python3.8/threading.py\", line 870, in run\n",
      "    self._target(*self._args, **self._kwargs)\n",
      "  File \"/home/david/anaconda3/lib/python3.8/site-packages/gensim/models/base_any2vec.py\", line 210, in _worker_loop\n",
      "    tally, raw_tally = self._do_train_job(data_iterable, job_parameters, thread_private_mem)\n",
      "  File \"/home/david/anaconda3/lib/python3.8/site-packages/gensim/models/word2vec.py\", line 638, in _do_train_job\n",
      "    tally += train_batch_cbow(self, sentences, alpha, work, neu1, self.compute_loss)\n",
      "  File \"gensim/models/word2vec_inner.pyx\", line 628, in gensim.models.word2vec_inner.train_batch_cbow\n",
      "ValueError: The truth value of an array with more than one element is ambiguous. Use a.any() or a.all()\n"
     ]
    }
   ],
   "source": [
    "# split into words\n",
    "tokens = word_tokenize(text)\n",
    "\n",
    "# convert to lower case\n",
    "tokens = [w.lower() for w in tokens]\n",
    "\n",
    "# remove punctuation from each word\n",
    "table = str.maketrans('', '', string.punctuation)\n",
    "stripped = [w.translate(table) for w in tokens]\n",
    "\n",
    "# remove remaining tokens that are not alphabetic\n",
    "words = [word for word in stripped if word.isalpha()]\n",
    "\n",
    "# filter out stop words\n",
    "stop_words = set(stopwords.words('english'))\n",
    "words = [w for w in words if not w in stop_words]\n",
    "\n",
    "import numpy as np\n",
    "\n",
    "arr = np.array(words[:200])\n",
    "\n",
    "sentences = np.array_split(arr, 20)\n",
    "\n",
    "\n",
    "\n",
    "# train model\n",
    "model = Word2Vec(sentences, min_count=1)\n",
    "\n",
    "# fit a 2d PCA model to the vectors\n",
    "X = model[model.wv.vocab]\n",
    "pca = PCA(n_components=2)\n",
    "result = pca.fit_transform(X)\n",
    "\n",
    "# create a scatter plot of the projection\n",
    "pyplot.scatter(result[:, 0], result[:, 1])\n",
    "words = list(model.wv.vocab)\n",
    "\n",
    "for i, word in enumerate(words):\n",
    "    pyplot.annotate(word, xy=(result[i, 0], result[i, 1]))\n",
    "pyplot.show()"
   ]
  },
  {
   "cell_type": "markdown",
   "metadata": {},
   "source": [
    "# Lesson 05: Learned Embedding"
   ]
  },
  {
   "cell_type": "code",
   "execution_count": 2,
   "metadata": {},
   "outputs": [
    {
     "name": "stdout",
     "output_type": "stream",
     "text": [
      "Model: \"sequential\"\n",
      "_________________________________________________________________\n",
      "Layer (type)                 Output Shape              Param #   \n",
      "=================================================================\n",
      "embedding (Embedding)        (None, 32, 8)             800       \n",
      "_________________________________________________________________\n",
      "flatten (Flatten)            (None, 256)               0         \n",
      "_________________________________________________________________\n",
      "dense (Dense)                (None, 1)                 257       \n",
      "=================================================================\n",
      "Total params: 1,057\n",
      "Trainable params: 1,057\n",
      "Non-trainable params: 0\n",
      "_________________________________________________________________\n",
      "None\n"
     ]
    }
   ],
   "source": [
    "from keras.models import Sequential\n",
    "from keras.layers import Dense\n",
    "from keras.layers import Flatten\n",
    "from keras.layers.embeddings import Embedding\n",
    "\n",
    "# define problem\n",
    "vocab_size = 100\n",
    "max_length = 32\n",
    "\n",
    "# define the model\n",
    "model = Sequential()\n",
    "model.add(Embedding(vocab_size, 8, input_length=max_length))\n",
    "model.add(Flatten())\n",
    "model.add(Dense(1, activation='sigmoid'))\n",
    "\n",
    "# compile the model\n",
    "model.compile(optimizer='adam', loss='binary_crossentropy', metrics=['accuracy'])\n",
    "\n",
    "# summarize the model\n",
    "print(model.summary())"
   ]
  },
  {
   "cell_type": "code",
   "execution_count": 3,
   "metadata": {},
   "outputs": [
    {
     "name": "stdout",
     "output_type": "stream",
     "text": [
      "[[28, 27], [16, 21], [44, 43], [24, 21], [25], [1], [11, 43], [4, 16], [11, 21], [44, 46, 27, 16]]\n",
      "[[28 27  0  0]\n",
      " [16 21  0  0]\n",
      " [44 43  0  0]\n",
      " [24 21  0  0]\n",
      " [25  0  0  0]\n",
      " [ 1  0  0  0]\n",
      " [11 43  0  0]\n",
      " [ 4 16  0  0]\n",
      " [11 21  0  0]\n",
      " [44 46 27 16]]\n",
      "Model: \"sequential_1\"\n",
      "_________________________________________________________________\n",
      "Layer (type)                 Output Shape              Param #   \n",
      "=================================================================\n",
      "embedding_1 (Embedding)      (None, 4, 8)              400       \n",
      "_________________________________________________________________\n",
      "flatten_1 (Flatten)          (None, 32)                0         \n",
      "_________________________________________________________________\n",
      "dense_1 (Dense)              (None, 1)                 33        \n",
      "=================================================================\n",
      "Total params: 433\n",
      "Trainable params: 433\n",
      "Non-trainable params: 0\n",
      "_________________________________________________________________\n",
      "None\n",
      "Accuracy: 89.999998\n"
     ]
    }
   ],
   "source": [
    "from numpy import array\n",
    "from keras.preprocessing.text import one_hot\n",
    "from keras.preprocessing.sequence import pad_sequences\n",
    "from keras.models import Sequential\n",
    "from keras.layers import Dense\n",
    "from keras.layers import Flatten\n",
    "from keras.layers.embeddings import Embedding\n",
    "\n",
    "# define documents\n",
    "docs = ['Well done!',\n",
    "        'Good work',\n",
    "        'Great effort',\n",
    "        'nice work',\n",
    "        'Excellent!',\n",
    "        'Weak',\n",
    "        'Poor effort!',\n",
    "        'not good',\n",
    "        'poor work',\n",
    "        \n",
    "        'Could have done better.']\n",
    "\n",
    "# define class labels\n",
    "labels = array([1,1,1,1,1,0,0,0,0,0])\n",
    "\n",
    "# integer encode the documents\n",
    "vocab_size = 50\n",
    "encoded_docs = [one_hot(d, vocab_size) for d in docs]\n",
    "print(encoded_docs)\n",
    "\n",
    "# pad documents to a max length of 4 words\n",
    "max_length = 4\n",
    "padded_docs = pad_sequences(encoded_docs, maxlen=max_length, padding='post')\n",
    "print(padded_docs)\n",
    "\n",
    "# define the model\n",
    "model = Sequential()\n",
    "model.add(Embedding(vocab_size, 8, input_length=max_length))\n",
    "model.add(Flatten())\n",
    "model.add(Dense(1, activation='sigmoid'))\n",
    "\n",
    "# compile the model\n",
    "model.compile(optimizer='adam', loss='binary_crossentropy', metrics=['accuracy'])\n",
    "\n",
    "# summarize the model\n",
    "print(model.summary())\n",
    "\n",
    "# fit the model\n",
    "model.fit(padded_docs, labels, epochs=50, verbose=0)\n",
    "\n",
    "# evaluate the model\n",
    "loss, accuracy = model.evaluate(padded_docs, labels, verbose=0)\n",
    "print('Accuracy: %f' % (accuracy*100))"
   ]
  },
  {
   "cell_type": "markdown",
   "metadata": {},
   "source": [
    "# Lesson 07: Movie Review Sentiment Analysis Project"
   ]
  }
 ],
 "metadata": {
  "kernelspec": {
   "display_name": "Python 3",
   "language": "python",
   "name": "python3"
  },
  "language_info": {
   "codemirror_mode": {
    "name": "ipython",
    "version": 3
   },
   "file_extension": ".py",
   "mimetype": "text/x-python",
   "name": "python",
   "nbconvert_exporter": "python",
   "pygments_lexer": "ipython3",
   "version": "3.8.3"
  }
 },
 "nbformat": 4,
 "nbformat_minor": 4
}
